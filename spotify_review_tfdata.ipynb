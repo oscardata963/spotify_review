{
  "cells": [
    {
      "cell_type": "markdown",
      "metadata": {
        "id": "QUCa0H1qp7eI"
      },
      "source": [
        "# Spotify Review NLP - Rating Prediction from Reviews on Google Play\n",
        "\n",
        "The data was retrieved from https://www.kaggle.com/datasets/mfaaris/spotify-app-reviews-2022\n",
        "\n",
        "This project aims at building an NLP machine that predicts the rating of the Spotify app based on the user reviews. A recurrent neural network will be used. Side information such as the number of upvotes and the time of publication will also be used as features.\n",
        "\n",
        "Tensorflow Data module was used to allow possible application of Tensorflow dataset pipelines. StaticVocabularyTable was also used to provide greater flexibility in specifying the number of OOV buckets."
      ]
    },
    {
      "cell_type": "markdown",
      "metadata": {
        "id": "0EP6uKeDp7eM"
      },
      "source": [
        "### EDA"
      ]
    },
    {
      "cell_type": "code",
      "execution_count": 2,
      "metadata": {
        "id": "LiuJB0nSp7eO"
      },
      "outputs": [],
      "source": [
        "import pandas as pd\n",
        "import numpy as np\n",
        "import matplotlib.pyplot as plt\n",
        "import datetime"
      ]
    },
    {
      "cell_type": "code",
      "execution_count": 3,
      "metadata": {
        "id": "uPndkcE6p7eQ"
      },
      "outputs": [],
      "source": [
        "df = pd.read_csv('reviews.csv')"
      ]
    },
    {
      "cell_type": "code",
      "execution_count": 4,
      "metadata": {
        "colab": {
          "base_uri": "https://localhost:8080/",
          "height": 206
        },
        "id": "Jdb4UAazp7eR",
        "outputId": "76bbf12a-4d9b-4ff8-966b-05392c236226"
      },
      "outputs": [
        {
          "data": {
            "text/html": [
              "<div>\n",
              "<style scoped>\n",
              "    .dataframe tbody tr th:only-of-type {\n",
              "        vertical-align: middle;\n",
              "    }\n",
              "\n",
              "    .dataframe tbody tr th {\n",
              "        vertical-align: top;\n",
              "    }\n",
              "\n",
              "    .dataframe thead th {\n",
              "        text-align: right;\n",
              "    }\n",
              "</style>\n",
              "<table border=\"1\" class=\"dataframe\">\n",
              "  <thead>\n",
              "    <tr style=\"text-align: right;\">\n",
              "      <th></th>\n",
              "      <th>Time_submitted</th>\n",
              "      <th>Review</th>\n",
              "      <th>Rating</th>\n",
              "      <th>Total_thumbsup</th>\n",
              "      <th>Reply</th>\n",
              "    </tr>\n",
              "  </thead>\n",
              "  <tbody>\n",
              "    <tr>\n",
              "      <th>0</th>\n",
              "      <td>2022-07-09 15:00:00</td>\n",
              "      <td>Great music service, the audio is high quality...</td>\n",
              "      <td>5</td>\n",
              "      <td>2</td>\n",
              "      <td>NaN</td>\n",
              "    </tr>\n",
              "    <tr>\n",
              "      <th>1</th>\n",
              "      <td>2022-07-09 14:21:22</td>\n",
              "      <td>Please ignore previous negative rating. This a...</td>\n",
              "      <td>5</td>\n",
              "      <td>1</td>\n",
              "      <td>NaN</td>\n",
              "    </tr>\n",
              "    <tr>\n",
              "      <th>2</th>\n",
              "      <td>2022-07-09 13:27:32</td>\n",
              "      <td>This pop-up \"Get the best Spotify experience o...</td>\n",
              "      <td>4</td>\n",
              "      <td>0</td>\n",
              "      <td>NaN</td>\n",
              "    </tr>\n",
              "    <tr>\n",
              "      <th>3</th>\n",
              "      <td>2022-07-09 13:26:45</td>\n",
              "      <td>Really buggy and terrible to use as of recently</td>\n",
              "      <td>1</td>\n",
              "      <td>1</td>\n",
              "      <td>NaN</td>\n",
              "    </tr>\n",
              "    <tr>\n",
              "      <th>4</th>\n",
              "      <td>2022-07-09 13:20:49</td>\n",
              "      <td>Dear Spotify why do I get songs that I didn't ...</td>\n",
              "      <td>1</td>\n",
              "      <td>1</td>\n",
              "      <td>NaN</td>\n",
              "    </tr>\n",
              "  </tbody>\n",
              "</table>\n",
              "</div>"
            ],
            "text/plain": [
              "        Time_submitted                                             Review  \\\n",
              "0  2022-07-09 15:00:00  Great music service, the audio is high quality...   \n",
              "1  2022-07-09 14:21:22  Please ignore previous negative rating. This a...   \n",
              "2  2022-07-09 13:27:32  This pop-up \"Get the best Spotify experience o...   \n",
              "3  2022-07-09 13:26:45    Really buggy and terrible to use as of recently   \n",
              "4  2022-07-09 13:20:49  Dear Spotify why do I get songs that I didn't ...   \n",
              "\n",
              "   Rating  Total_thumbsup Reply  \n",
              "0       5               2   NaN  \n",
              "1       5               1   NaN  \n",
              "2       4               0   NaN  \n",
              "3       1               1   NaN  \n",
              "4       1               1   NaN  "
            ]
          },
          "execution_count": 4,
          "metadata": {},
          "output_type": "execute_result"
        }
      ],
      "source": [
        "df.head()"
      ]
    },
    {
      "cell_type": "code",
      "execution_count": 5,
      "metadata": {
        "colab": {
          "base_uri": "https://localhost:8080/"
        },
        "id": "_oREq0n-p7eT",
        "outputId": "eeca9094-c2a8-49e8-9c59-f55481feddea"
      },
      "outputs": [
        {
          "data": {
            "text/plain": [
              "(61594, 5)"
            ]
          },
          "execution_count": 5,
          "metadata": {},
          "output_type": "execute_result"
        }
      ],
      "source": [
        "df.shape"
      ]
    },
    {
      "cell_type": "code",
      "execution_count": 6,
      "metadata": {
        "colab": {
          "base_uri": "https://localhost:8080/"
        },
        "id": "VbWNVUlyp7eV",
        "outputId": "d6c2ce37-1292-4c10-8d99-170cefaed02b"
      },
      "outputs": [
        {
          "name": "stdout",
          "output_type": "stream",
          "text": [
            "<class 'pandas.core.frame.DataFrame'>\n",
            "RangeIndex: 61594 entries, 0 to 61593\n",
            "Data columns (total 5 columns):\n",
            " #   Column          Non-Null Count  Dtype \n",
            "---  ------          --------------  ----- \n",
            " 0   Time_submitted  61594 non-null  object\n",
            " 1   Review          61594 non-null  object\n",
            " 2   Rating          61594 non-null  int64 \n",
            " 3   Total_thumbsup  61594 non-null  int64 \n",
            " 4   Reply           216 non-null    object\n",
            "dtypes: int64(2), object(3)\n",
            "memory usage: 2.3+ MB\n"
          ]
        }
      ],
      "source": [
        "df.info()"
      ]
    },
    {
      "cell_type": "code",
      "execution_count": 7,
      "metadata": {
        "colab": {
          "base_uri": "https://localhost:8080/",
          "height": 300
        },
        "id": "BfvowOwZp7eW",
        "outputId": "349d1cd6-ea7c-4f9f-a098-81dd42fa50a7"
      },
      "outputs": [
        {
          "data": {
            "text/html": [
              "<div>\n",
              "<style scoped>\n",
              "    .dataframe tbody tr th:only-of-type {\n",
              "        vertical-align: middle;\n",
              "    }\n",
              "\n",
              "    .dataframe tbody tr th {\n",
              "        vertical-align: top;\n",
              "    }\n",
              "\n",
              "    .dataframe thead th {\n",
              "        text-align: right;\n",
              "    }\n",
              "</style>\n",
              "<table border=\"1\" class=\"dataframe\">\n",
              "  <thead>\n",
              "    <tr style=\"text-align: right;\">\n",
              "      <th></th>\n",
              "      <th>Rating</th>\n",
              "      <th>Total_thumbsup</th>\n",
              "    </tr>\n",
              "  </thead>\n",
              "  <tbody>\n",
              "    <tr>\n",
              "      <th>count</th>\n",
              "      <td>61594.000000</td>\n",
              "      <td>61594.000000</td>\n",
              "    </tr>\n",
              "    <tr>\n",
              "      <th>mean</th>\n",
              "      <td>3.155989</td>\n",
              "      <td>7.649381</td>\n",
              "    </tr>\n",
              "    <tr>\n",
              "      <th>std</th>\n",
              "      <td>1.673285</td>\n",
              "      <td>89.323143</td>\n",
              "    </tr>\n",
              "    <tr>\n",
              "      <th>min</th>\n",
              "      <td>1.000000</td>\n",
              "      <td>0.000000</td>\n",
              "    </tr>\n",
              "    <tr>\n",
              "      <th>25%</th>\n",
              "      <td>1.000000</td>\n",
              "      <td>0.000000</td>\n",
              "    </tr>\n",
              "    <tr>\n",
              "      <th>50%</th>\n",
              "      <td>3.000000</td>\n",
              "      <td>0.000000</td>\n",
              "    </tr>\n",
              "    <tr>\n",
              "      <th>75%</th>\n",
              "      <td>5.000000</td>\n",
              "      <td>1.000000</td>\n",
              "    </tr>\n",
              "    <tr>\n",
              "      <th>max</th>\n",
              "      <td>5.000000</td>\n",
              "      <td>8195.000000</td>\n",
              "    </tr>\n",
              "  </tbody>\n",
              "</table>\n",
              "</div>"
            ],
            "text/plain": [
              "             Rating  Total_thumbsup\n",
              "count  61594.000000    61594.000000\n",
              "mean       3.155989        7.649381\n",
              "std        1.673285       89.323143\n",
              "min        1.000000        0.000000\n",
              "25%        1.000000        0.000000\n",
              "50%        3.000000        0.000000\n",
              "75%        5.000000        1.000000\n",
              "max        5.000000     8195.000000"
            ]
          },
          "execution_count": 7,
          "metadata": {},
          "output_type": "execute_result"
        }
      ],
      "source": [
        "df.describe()"
      ]
    },
    {
      "cell_type": "markdown",
      "metadata": {},
      "source": [
        "The mean of total upvotes of reviews grouped by the presence of replies"
      ]
    },
    {
      "cell_type": "code",
      "execution_count": 8,
      "metadata": {},
      "outputs": [],
      "source": [
        "x = pd.concat((df['Total_thumbsup'], (df['Reply'].isna() == False).astype('str')), axis=1)\n",
        "y = x.groupby('Reply')['Total_thumbsup'].mean()"
      ]
    },
    {
      "cell_type": "code",
      "execution_count": 9,
      "metadata": {},
      "outputs": [
        {
          "data": {
            "text/plain": [
              "Text(0, 0.5, 'Mean number of Upvotes')"
            ]
          },
          "execution_count": 9,
          "metadata": {},
          "output_type": "execute_result"
        },
        {
          "data": {
            "image/png": "[encoded data removed]",
            "text/plain": [
              "<Figure size 432x288 with 1 Axes>"
            ]
          },
          "metadata": {
            "needs_background": "light"
          },
          "output_type": "display_data"
        }
      ],
      "source": [
        "plt.bar(['Without reply', 'With reply'], y.values)\n",
        "plt.title('Mean Number of Upvotes Grouped by the Presence of Replies')\n",
        "plt.xlabel('Reply')\n",
        "plt.ylabel('Mean number of Upvotes')"
      ]
    },
    {
      "cell_type": "markdown",
      "metadata": {},
      "source": [
        "Distribution of ratings and the distribution of the number of upvotes"
      ]
    },
    {
      "cell_type": "code",
      "execution_count": null,
      "metadata": {
        "colab": {
          "base_uri": "https://localhost:8080/",
          "height": 297
        },
        "id": "nxpzNkp-p7eY",
        "outputId": "5cbcf479-4732-473e-d4e9-1ada4c854a1f"
      },
      "outputs": [
        {
          "data": {
            "image/png": "[encoded data removed]",
            "text/plain": [
              "<Figure size 432x288 with 2 Axes>"
            ]
          },
          "metadata": {
            "needs_background": "light"
          },
          "output_type": "display_data"
        }
      ],
      "source": [
        "fig = plt.figure()\n",
        "ax1 = fig.add_subplot(211)\n",
        "ax1.hist(df['Rating'].values, bins=100)\n",
        "ax1.set_title('Distribution of Ratings')\n",
        "ax1.set_xlabel('Rating')\n",
        "ax1.set_ylabel('Counts')\n",
        "ax2 = fig.add_subplot(212)\n",
        "ax2.hist(df['Total_thumbsup'][df['Total_thumbsup'] < 100].values, bins=100)\n",
        "ax2.set_title('Distribution of Upvotes')\n",
        "ax2.set_xlabel('Number of Upvotes')\n",
        "ax2.set_ylabel('Counts')\n",
        "ax2.set_xlim(0,20)\n",
        "plt.tight_layout()\n",
        "plt.show()"
      ]
    },
    {
      "cell_type": "code",
      "execution_count": null,
      "metadata": {
        "colab": {
          "base_uri": "https://localhost:8080/"
        },
        "id": "MrtT4BBHp7ea",
        "outputId": "8b0009ed-d4ef-442b-fe31-fd4ad1751420"
      },
      "outputs": [
        {
          "data": {
            "text/plain": [
              "8195"
            ]
          },
          "execution_count": 8,
          "metadata": {},
          "output_type": "execute_result"
        }
      ],
      "source": [
        "df['Total_thumbsup'].max()"
      ]
    },
    {
      "cell_type": "code",
      "execution_count": null,
      "metadata": {
        "id": "XYfAdmZAp7eb"
      },
      "outputs": [],
      "source": [
        "df['Time_submitted'] = pd.to_datetime(df['Time_submitted'], format='%Y-%m-%d %H:%M:%S')"
      ]
    },
    {
      "cell_type": "code",
      "execution_count": null,
      "metadata": {
        "id": "dqvkWWUZp7ec"
      },
      "outputs": [],
      "source": [
        "group_month = df.groupby(df['Time_submitted'].dt.month)"
      ]
    },
    {
      "cell_type": "code",
      "execution_count": null,
      "metadata": {
        "id": "vECLZM-Ep7ed"
      },
      "outputs": [],
      "source": [
        "review_count_by_month = group_month['Rating'].count()"
      ]
    },
    {
      "cell_type": "code",
      "execution_count": null,
      "metadata": {
        "colab": {
          "base_uri": "https://localhost:8080/",
          "height": 350
        },
        "id": "asg7MFcVp7ed",
        "outputId": "d1c5186c-c060-426e-a19e-c3683dfdd447"
      },
      "outputs": [
        {
          "name": "stderr",
          "output_type": "stream",
          "text": [
            "/usr/local/lib/python3.7/dist-packages/ipykernel_launcher.py:2: MatplotlibDeprecationWarning: Passing the minor parameter of set_xticks() positionally is deprecated since Matplotlib 3.2; the parameter will become keyword-only two minor releases later.\n",
            "  \n"
          ]
        },
        {
          "data": {
            "image/png": "[encoded data removed]",
            "text/plain": [
              "<Figure size 432x288 with 1 Axes>"
            ]
          },
          "metadata": {
            "needs_background": "light"
          },
          "output_type": "display_data"
        }
      ],
      "source": [
        "plt.bar(review_count_by_month.index, review_count_by_month.values)\n",
        "plt.gca().set_xticks([1,2,3,4,5,6,7], ['January', 'February', 'March', 'April', 'May', 'June', 'July'])\n",
        "plt.title('Number of Reviews by month in 2022')\n",
        "plt.xlabel('Month')\n",
        "plt.ylabel('Count')\n",
        "plt.show()"
      ]
    },
    {
      "cell_type": "markdown",
      "metadata": {
        "id": "SuV8hSOqp7ee"
      },
      "source": [
        "### Preprocessing"
      ]
    },
    {
      "cell_type": "markdown",
      "metadata": {
        "id": "iWopn5Asp7ef"
      },
      "source": [
        "Lower Case"
      ]
    },
    {
      "cell_type": "code",
      "execution_count": null,
      "metadata": {
        "id": "a-vsN7k1p7ef"
      },
      "outputs": [],
      "source": [
        "df['Review'] = df['Review'].str.lower()"
      ]
    },
    {
      "cell_type": "markdown",
      "metadata": {
        "id": "Zh1VZEKSp7eg"
      },
      "source": [
        "Remove Punctuations"
      ]
    },
    {
      "cell_type": "code",
      "execution_count": null,
      "metadata": {
        "id": "H0oqnzbsp7eg"
      },
      "outputs": [],
      "source": [
        "df['Review'] = df['Review'].str.replace('[^\\w ]+', '', regex=True)"
      ]
    },
    {
      "cell_type": "markdown",
      "metadata": {
        "id": "0cnOgf9MDNay"
      },
      "source": [
        "Lemmatization"
      ]
    },
    {
      "cell_type": "code",
      "execution_count": null,
      "metadata": {
        "colab": {
          "base_uri": "https://localhost:8080/"
        },
        "id": "gD8pqo7MDLn1",
        "outputId": "fa33f5c8-b5ae-4a3d-9723-e2fbd093f92f"
      },
      "outputs": [
        {
          "name": "stderr",
          "output_type": "stream",
          "text": [
            "[nltk_data] Downloading package wordnet to /root/nltk_data...\n",
            "[nltk_data]   Package wordnet is already up-to-date!\n",
            "[nltk_data] Downloading package omw-1.4 to /root/nltk_data...\n",
            "[nltk_data]   Package omw-1.4 is already up-to-date!\n"
          ]
        }
      ],
      "source": [
        "from nltk.stem import WordNetLemmatizer\n",
        "import nltk\n",
        "\n",
        "nltk.download('wordnet')\n",
        "nltk.download('omw-1.4')\n",
        "\n",
        "lm = WordNetLemmatizer()\n",
        "\n",
        "def lemmatize(sentence):\n",
        "    new_words = []\n",
        "    words = sentence.split(' ')\n",
        "    for word in words:\n",
        "        new_words.append(lm.lemmatize(word))\n",
        "    return ' '.join(new_words)\n",
        "\n",
        "df['Review'] = df['Review'].apply(lemmatize)"
      ]
    },
    {
      "cell_type": "code",
      "execution_count": null,
      "metadata": {
        "id": "9_MM9pw7p7ei"
      },
      "outputs": [],
      "source": [
        "X_full = df['Review'].values\n",
        "y_full = df['Rating'].values"
      ]
    },
    {
      "cell_type": "code",
      "execution_count": null,
      "metadata": {
        "id": "_zQGiwUlp7eh"
      },
      "outputs": [],
      "source": [
        "import tensorflow as tf\n",
        "from tensorflow import keras"
      ]
    },
    {
      "cell_type": "code",
      "execution_count": null,
      "metadata": {
        "id": "YwOQl7TNp7ei"
      },
      "outputs": [],
      "source": [
        "from sklearn.model_selection import train_test_split\n",
        "X_train, X_valid, y_train, y_valid = train_test_split(X_full, y_full, test_size=0.1)"
      ]
    },
    {
      "cell_type": "code",
      "execution_count": null,
      "metadata": {
        "id": "S7PGwzFop7ej"
      },
      "outputs": [],
      "source": [
        "dataset_train = tf.data.Dataset.from_tensor_slices((tf.constant(X_train), tf.constant(y_train)))\n",
        "dataset_valid = tf.data.Dataset.from_tensor_slices((tf.constant(X_valid), tf.constant(y_valid)))"
      ]
    },
    {
      "cell_type": "code",
      "execution_count": null,
      "metadata": {
        "colab": {
          "base_uri": "https://localhost:8080/"
        },
        "id": "KL0MllDep7ek",
        "outputId": "2bae8144-fd72-4c97-b03d-9e38a65ff58a"
      },
      "outputs": [
        {
          "name": "stdout",
          "output_type": "stream",
          "text": [
            "(<tf.Tensor: shape=(), dtype=string, numpy=b'good app for streaming but im always late to update i have auto update on and i still dont have most of the feature all my friend have just a little annoyed'>, <tf.Tensor: shape=(), dtype=int64, numpy=3>)\n"
          ]
        }
      ],
      "source": [
        "for i in dataset_train.take(1):\n",
        "    print(i)"
      ]
    },
    {
      "cell_type": "code",
      "execution_count": null,
      "metadata": {
        "id": "Wj4y9pCNp7el"
      },
      "outputs": [],
      "source": [
        "def preprocess(X_batch, y_batch):\n",
        "    X_batch = tf.strings.substr(X_batch, 0, 300)\n",
        "    X_batch = tf.strings.split(X_batch)\n",
        "    X_batch = X_batch.to_tensor(default_value=b'<pad>')\n",
        "    return X_batch, y_batch"
      ]
    },
    {
      "cell_type": "code",
      "execution_count": null,
      "metadata": {
        "colab": {
          "base_uri": "https://localhost:8080/"
        },
        "id": "gv-kwvmpp7el",
        "outputId": "0436671f-be26-452e-946a-d197748145a8"
      },
      "outputs": [
        {
          "name": "stdout",
          "output_type": "stream",
          "text": [
            "tf.Tensor(\n",
            "[b'great' b'music' b'service' b'the' b'audio' b'is' b'high' b'quality'\n",
            " b'and' b'the' b'app' b'is' b'easy' b'to' b'use' b'also' b'very' b'quick'\n",
            " b'and' b'friendly' b'support'], shape=(21,), dtype=string)\n",
            "tf.Tensor(\n",
            "[b'please' b'ignore' b'previous' b'negative' b'rating' b'this' b'app'\n",
            " b'is' b'super' b'great' b'i' b'give' b'it' b'five' b'star' b'<pad>'\n",
            " b'<pad>' b'<pad>' b'<pad>' b'<pad>' b'<pad>'], shape=(21,), dtype=string)\n"
          ]
        }
      ],
      "source": [
        "for i in preprocess(X_full[0:2], y_full[0:2])[0]:\n",
        "    print(i)"
      ]
    },
    {
      "cell_type": "code",
      "execution_count": null,
      "metadata": {
        "id": "Ty9CpgVyp7em"
      },
      "outputs": [],
      "source": [
        "from collections import Counter\n",
        "\n",
        "vocabulary = Counter()\n",
        "for X_batch, y_batch in dataset_train.batch(32).map(preprocess):\n",
        "    for review in X_batch:\n",
        "        vocabulary.update(list(review.numpy()))"
      ]
    },
    {
      "cell_type": "code",
      "execution_count": null,
      "metadata": {
        "colab": {
          "base_uri": "https://localhost:8080/"
        },
        "id": "VaJihrugp7en",
        "outputId": "5e7ed7eb-3437-48de-b00d-86994f769430"
      },
      "outputs": [
        {
          "data": {
            "text/plain": [
              "[(b'<pad>', 1939570),\n",
              " (b'the', 60484),\n",
              " (b'i', 58587),\n",
              " (b'to', 55365),\n",
              " (b'it', 50450)]"
            ]
          },
          "execution_count": 24,
          "metadata": {},
          "output_type": "execute_result"
        }
      ],
      "source": [
        "vocabulary.most_common()[:5]"
      ]
    },
    {
      "cell_type": "code",
      "execution_count": null,
      "metadata": {
        "colab": {
          "base_uri": "https://localhost:8080/"
        },
        "id": "4IU7sq7_p7eo",
        "outputId": "0b270b55-5c13-4870-b622-3d51b6387d61"
      },
      "outputs": [
        {
          "data": {
            "text/plain": [
              "25489"
            ]
          },
          "execution_count": 25,
          "metadata": {},
          "output_type": "execute_result"
        }
      ],
      "source": [
        "len(vocabulary)"
      ]
    },
    {
      "cell_type": "code",
      "execution_count": null,
      "metadata": {
        "id": "IVB1WHayp7eo"
      },
      "outputs": [],
      "source": [
        "vocab_size = 8000\n",
        "truncated_vocabulary = [word for word, count in vocabulary.most_common()[:vocab_size]]"
      ]
    },
    {
      "cell_type": "code",
      "execution_count": null,
      "metadata": {
        "id": "_PqPPmHJp7ep"
      },
      "outputs": [],
      "source": [
        "word_to_id = {word: index for index, word in enumerate(truncated_vocabulary)}"
      ]
    },
    {
      "cell_type": "code",
      "execution_count": null,
      "metadata": {
        "colab": {
          "base_uri": "https://localhost:8080/"
        },
        "id": "9zob_eh1p7ep",
        "outputId": "17ba2e1a-d0ab-47ef-8b15-459b3d0e6ad6"
      },
      "outputs": [
        {
          "name": "stdout",
          "output_type": "stream",
          "text": [
            "15\n",
            "7\n",
            "9\n",
            "41\n"
          ]
        }
      ],
      "source": [
        "for word in b'this app is great'.split():\n",
        "    print(word_to_id[word])"
      ]
    },
    {
      "cell_type": "code",
      "execution_count": null,
      "metadata": {
        "colab": {
          "base_uri": "https://localhost:8080/"
        },
        "id": "a_qtH2MWp7eq",
        "outputId": "664f47a9-28c0-4f68-a7b0-e00b2e80b36c"
      },
      "outputs": [
        {
          "name": "stdout",
          "output_type": "stream",
          "text": [
            "b'mine'\n"
          ]
        }
      ],
      "source": [
        "for word, index in word_to_id.items():\n",
        "    if index == 1000:\n",
        "        print(word)"
      ]
    },
    {
      "cell_type": "code",
      "execution_count": null,
      "metadata": {
        "id": "bJdXyUlPp7eq"
      },
      "outputs": [],
      "source": [
        "words = tf.constant(truncated_vocabulary)\n",
        "word_ids = tf.range(len(truncated_vocabulary), dtype=tf.int64)\n",
        "vocab_init = tf.lookup.KeyValueTensorInitializer(words, word_ids)\n",
        "num_oov_buckets = 1000\n",
        "table = tf.lookup.StaticVocabularyTable(vocab_init, num_oov_buckets=num_oov_buckets)"
      ]
    },
    {
      "cell_type": "code",
      "execution_count": null,
      "metadata": {
        "colab": {
          "base_uri": "https://localhost:8080/"
        },
        "id": "xB-vW3Dsp7er",
        "outputId": "0856db8b-1520-4e89-aeae-56078016ba16"
      },
      "outputs": [
        {
          "data": {
            "text/plain": [
              "<tf.Tensor: shape=(1, 4), dtype=int64, numpy=array([[15,  7,  9, 41]])>"
            ]
          },
          "execution_count": 31,
          "metadata": {},
          "output_type": "execute_result"
        }
      ],
      "source": [
        "table.lookup(tf.constant([b'this app is great'.split()]))"
      ]
    },
    {
      "cell_type": "code",
      "execution_count": null,
      "metadata": {
        "id": "rJcLQfr8p7er"
      },
      "outputs": [],
      "source": [
        "def encode_words(X_batch, y_batch):\n",
        "    return table.lookup(X_batch), y_batch\n",
        "\n",
        "train_set = dataset_train.batch(32).map(preprocess)\n",
        "train_set = train_set.map(encode_words).prefetch(1)\n",
        "\n",
        "valid_set = dataset_valid.batch(32).map(preprocess)\n",
        "valid_set = valid_set.map(encode_words).prefetch(1)"
      ]
    },
    {
      "cell_type": "code",
      "execution_count": null,
      "metadata": {
        "colab": {
          "base_uri": "https://localhost:8080/"
        },
        "id": "-AWgvmEup7es",
        "outputId": "8328f422-ccb1-4657-bb44-403d1428b283"
      },
      "outputs": [
        {
          "name": "stdout",
          "output_type": "stream",
          "text": [
            "tf.Tensor(\n",
            "[[  35    7   12 ...    0    0    0]\n",
            " [ 517  509   17 ...    0    0    0]\n",
            " [   2   64   31 ...    0    0    0]\n",
            " ...\n",
            " [ 547 8573   10 ...    0    0    0]\n",
            " [  35    7   12 ...    0    0    0]\n",
            " [  71   14   92 ...    0    0    0]], shape=(32, 58), dtype=int64)\n",
            "tf.Tensor([3 1 4 1 5 2 5 3 1 1 5 5 2 5 1 5 5 4 5 3 5 5 3 2 4 5 5 1 5 5 5 1], shape=(32,), dtype=int64)\n"
          ]
        }
      ],
      "source": [
        "for X_batch, y_batch in train_set.take(1):\n",
        "    print(X_batch)\n",
        "    print(y_batch)"
      ]
    },
    {
      "cell_type": "code",
      "execution_count": null,
      "metadata": {
        "id": "ZahW27Agp7es"
      },
      "outputs": [],
      "source": [
        "embed_size = 128\n",
        "model = keras.models.Sequential([\n",
        "    keras.layers.Embedding(vocab_size+num_oov_buckets, embed_size,\n",
        "                           mask_zero = True,\n",
        "                           input_shape=[None]),\n",
        "    keras.layers.GRU(128, return_sequences=True, kernel_regularizer='l2'),\n",
        "    keras.layers.LayerNormalization(),\n",
        "    keras.layers.GRU(128, kernel_regularizer='l2'),\n",
        "    keras.layers.Dense(1)\n",
        "])"
      ]
    },
    {
      "cell_type": "code",
      "execution_count": null,
      "metadata": {
        "colab": {
          "base_uri": "https://localhost:8080/"
        },
        "id": "fpWmbg7up7et",
        "outputId": "d7d676d1-5a02-4641-8fcf-8cf2e00061f8"
      },
      "outputs": [
        {
          "name": "stdout",
          "output_type": "stream",
          "text": [
            "Epoch 1/5\n",
            "1733/1733 [==============================] - 43s 20ms/step - loss: 1.5781 - root_mean_squared_error: 1.0877 - val_loss: 1.0326 - val_root_mean_squared_error: 0.9860\n",
            "Epoch 2/5\n",
            "1733/1733 [==============================] - 31s 18ms/step - loss: 0.9272 - root_mean_squared_error: 0.9320 - val_loss: 1.0221 - val_root_mean_squared_error: 0.9857\n",
            "Epoch 3/5\n",
            "1733/1733 [==============================] - 32s 19ms/step - loss: 0.7712 - root_mean_squared_error: 0.8405 - val_loss: 1.1210 - val_root_mean_squared_error: 1.0288\n",
            "Epoch 4/5\n",
            "1733/1733 [==============================] - 31s 18ms/step - loss: 0.6697 - root_mean_squared_error: 0.7729 - val_loss: 1.2890 - val_root_mean_squared_error: 1.1028\n",
            "Epoch 5/5\n",
            "1733/1733 [==============================] - 30s 18ms/step - loss: 0.6154 - root_mean_squared_error: 0.7342 - val_loss: 1.2973 - val_root_mean_squared_error: 1.1047\n"
          ]
        }
      ],
      "source": [
        "model.compile(loss='mean_squared_error', metrics=tf.keras.metrics.RootMeanSquaredError(), optimizer='adam')\n",
        "history = model.fit(train_set, epochs=5, validation_data=valid_set)"
      ]
    },
    {
      "cell_type": "code",
      "execution_count": null,
      "metadata": {
        "colab": {
          "base_uri": "https://localhost:8080/"
        },
        "id": "wkpoWIZVp7et",
        "outputId": "c03868de-859f-4d1c-ee32-9864d955816b"
      },
      "outputs": [
        {
          "data": {
            "text/plain": [
              "array([[4.7798686]], dtype=float32)"
            ]
          },
          "execution_count": 36,
          "metadata": {},
          "output_type": "execute_result"
        }
      ],
      "source": [
        "model.predict(table.lookup(tf.constant([b'this app is good'.split()])))"
      ]
    }
  ],
  "metadata": {
    "accelerator": "GPU",
    "colab": {
      "name": "spotify_review.ipynb",
      "provenance": []
    },
    "gpuClass": "standard",
    "kernelspec": {
      "display_name": "Python 3.9.7 64-bit",
      "language": "python",
      "name": "python3"
    },
    "language_info": {
      "codemirror_mode": {
        "name": "ipython",
        "version": 3
      },
      "file_extension": ".py",
      "mimetype": "text/x-python",
      "name": "python",
      "nbconvert_exporter": "python",
      "pygments_lexer": "ipython3",
      "version": "3.9.7"
    },
    "orig_nbformat": 4,
    "vscode": {
      "interpreter": {
        "hash": "b1ffc42b7688ee54d4509547a2cb46af3c49bac4d5c1def4786231871a29c157"
      }
    }
  },
  "nbformat": 4,
  "nbformat_minor": 0
}
