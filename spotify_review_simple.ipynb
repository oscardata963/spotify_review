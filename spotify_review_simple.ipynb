{
  "cells": [
    {
      "cell_type": "markdown",
      "metadata": {
        "id": "QUCa0H1qp7eI"
      },
      "source": [
        "# Spotify Review NLP - Rating Prediction from Reviews on Google Play\n",
        "\n",
        "The data was retrieved from https://www.kaggle.com/datasets/mfaaris/spotify-app-reviews-2022\n",
        "\n",
        "This project aims at building an NLP machine that predicts the rating of the Spotify app based on the user reviews. A recurrent neural network will be used. Side information such as the number of upvotes and the time of publication will also be used as features.\n",
        "\n",
        "The recently included TextVectorization layer has been used to build the model, incorporating data preprocessing steps during training time."
      ]
    },
    {
      "cell_type": "markdown",
      "metadata": {
        "id": "0EP6uKeDp7eM"
      },
      "source": [
        "### EDA"
      ]
    },
    {
      "cell_type": "code",
      "execution_count": 1,
      "metadata": {
        "id": "LiuJB0nSp7eO"
      },
      "outputs": [],
      "source": [
        "import pandas as pd\n",
        "import numpy as np\n",
        "import matplotlib.pyplot as plt\n",
        "import datetime"
      ]
    },
    {
      "cell_type": "code",
      "execution_count": 2,
      "metadata": {
        "id": "uPndkcE6p7eQ"
      },
      "outputs": [],
      "source": [
        "df = pd.read_csv('reviews.csv')"
      ]
    },
    {
      "cell_type": "code",
      "execution_count": 3,
      "metadata": {
        "colab": {
          "base_uri": "https://localhost:8080/",
          "height": 206
        },
        "id": "Jdb4UAazp7eR",
        "outputId": "f0a7dd23-51ea-4ed2-a364-f358fdf5beb8"
      },
      "outputs": [
        {
          "data": {
            "text/html": [
              "<div>\n",
              "<style scoped>\n",
              "    .dataframe tbody tr th:only-of-type {\n",
              "        vertical-align: middle;\n",
              "    }\n",
              "\n",
              "    .dataframe tbody tr th {\n",
              "        vertical-align: top;\n",
              "    }\n",
              "\n",
              "    .dataframe thead th {\n",
              "        text-align: right;\n",
              "    }\n",
              "</style>\n",
              "<table border=\"1\" class=\"dataframe\">\n",
              "  <thead>\n",
              "    <tr style=\"text-align: right;\">\n",
              "      <th></th>\n",
              "      <th>Time_submitted</th>\n",
              "      <th>Review</th>\n",
              "      <th>Rating</th>\n",
              "      <th>Total_thumbsup</th>\n",
              "      <th>Reply</th>\n",
              "    </tr>\n",
              "  </thead>\n",
              "  <tbody>\n",
              "    <tr>\n",
              "      <th>0</th>\n",
              "      <td>2022-07-09 15:00:00</td>\n",
              "      <td>Great music service, the audio is high quality...</td>\n",
              "      <td>5</td>\n",
              "      <td>2</td>\n",
              "      <td>NaN</td>\n",
              "    </tr>\n",
              "    <tr>\n",
              "      <th>1</th>\n",
              "      <td>2022-07-09 14:21:22</td>\n",
              "      <td>Please ignore previous negative rating. This a...</td>\n",
              "      <td>5</td>\n",
              "      <td>1</td>\n",
              "      <td>NaN</td>\n",
              "    </tr>\n",
              "    <tr>\n",
              "      <th>2</th>\n",
              "      <td>2022-07-09 13:27:32</td>\n",
              "      <td>This pop-up \"Get the best Spotify experience o...</td>\n",
              "      <td>4</td>\n",
              "      <td>0</td>\n",
              "      <td>NaN</td>\n",
              "    </tr>\n",
              "    <tr>\n",
              "      <th>3</th>\n",
              "      <td>2022-07-09 13:26:45</td>\n",
              "      <td>Really buggy and terrible to use as of recently</td>\n",
              "      <td>1</td>\n",
              "      <td>1</td>\n",
              "      <td>NaN</td>\n",
              "    </tr>\n",
              "    <tr>\n",
              "      <th>4</th>\n",
              "      <td>2022-07-09 13:20:49</td>\n",
              "      <td>Dear Spotify why do I get songs that I didn't ...</td>\n",
              "      <td>1</td>\n",
              "      <td>1</td>\n",
              "      <td>NaN</td>\n",
              "    </tr>\n",
              "  </tbody>\n",
              "</table>\n",
              "</div>"
            ],
            "text/plain": [
              "        Time_submitted                                             Review  \\\n",
              "0  2022-07-09 15:00:00  Great music service, the audio is high quality...   \n",
              "1  2022-07-09 14:21:22  Please ignore previous negative rating. This a...   \n",
              "2  2022-07-09 13:27:32  This pop-up \"Get the best Spotify experience o...   \n",
              "3  2022-07-09 13:26:45    Really buggy and terrible to use as of recently   \n",
              "4  2022-07-09 13:20:49  Dear Spotify why do I get songs that I didn't ...   \n",
              "\n",
              "   Rating  Total_thumbsup Reply  \n",
              "0       5               2   NaN  \n",
              "1       5               1   NaN  \n",
              "2       4               0   NaN  \n",
              "3       1               1   NaN  \n",
              "4       1               1   NaN  "
            ]
          },
          "execution_count": 3,
          "metadata": {},
          "output_type": "execute_result"
        }
      ],
      "source": [
        "df.head()"
      ]
    },
    {
      "cell_type": "code",
      "execution_count": 4,
      "metadata": {
        "colab": {
          "base_uri": "https://localhost:8080/"
        },
        "id": "_oREq0n-p7eT",
        "outputId": "98acf042-88ef-4af2-db3c-76b077712fe3"
      },
      "outputs": [
        {
          "data": {
            "text/plain": [
              "(61594, 5)"
            ]
          },
          "execution_count": 4,
          "metadata": {},
          "output_type": "execute_result"
        }
      ],
      "source": [
        "df.shape"
      ]
    },
    {
      "cell_type": "code",
      "execution_count": 5,
      "metadata": {
        "colab": {
          "base_uri": "https://localhost:8080/"
        },
        "id": "VbWNVUlyp7eV",
        "outputId": "66ab99bb-6452-4b73-8b54-8b0fa45ae5d2"
      },
      "outputs": [
        {
          "name": "stdout",
          "output_type": "stream",
          "text": [
            "<class 'pandas.core.frame.DataFrame'>\n",
            "RangeIndex: 61594 entries, 0 to 61593\n",
            "Data columns (total 5 columns):\n",
            " #   Column          Non-Null Count  Dtype \n",
            "---  ------          --------------  ----- \n",
            " 0   Time_submitted  61594 non-null  object\n",
            " 1   Review          61594 non-null  object\n",
            " 2   Rating          61594 non-null  int64 \n",
            " 3   Total_thumbsup  61594 non-null  int64 \n",
            " 4   Reply           216 non-null    object\n",
            "dtypes: int64(2), object(3)\n",
            "memory usage: 2.3+ MB\n"
          ]
        }
      ],
      "source": [
        "df.info()"
      ]
    },
    {
      "cell_type": "code",
      "execution_count": 6,
      "metadata": {
        "colab": {
          "base_uri": "https://localhost:8080/",
          "height": 300
        },
        "id": "BfvowOwZp7eW",
        "outputId": "8ec7bffe-4664-429f-d601-995ea912037d"
      },
      "outputs": [
        {
          "data": {
            "text/html": [
              "<div>\n",
              "<style scoped>\n",
              "    .dataframe tbody tr th:only-of-type {\n",
              "        vertical-align: middle;\n",
              "    }\n",
              "\n",
              "    .dataframe tbody tr th {\n",
              "        vertical-align: top;\n",
              "    }\n",
              "\n",
              "    .dataframe thead th {\n",
              "        text-align: right;\n",
              "    }\n",
              "</style>\n",
              "<table border=\"1\" class=\"dataframe\">\n",
              "  <thead>\n",
              "    <tr style=\"text-align: right;\">\n",
              "      <th></th>\n",
              "      <th>Rating</th>\n",
              "      <th>Total_thumbsup</th>\n",
              "    </tr>\n",
              "  </thead>\n",
              "  <tbody>\n",
              "    <tr>\n",
              "      <th>count</th>\n",
              "      <td>61594.000000</td>\n",
              "      <td>61594.000000</td>\n",
              "    </tr>\n",
              "    <tr>\n",
              "      <th>mean</th>\n",
              "      <td>3.155989</td>\n",
              "      <td>7.649381</td>\n",
              "    </tr>\n",
              "    <tr>\n",
              "      <th>std</th>\n",
              "      <td>1.673285</td>\n",
              "      <td>89.323143</td>\n",
              "    </tr>\n",
              "    <tr>\n",
              "      <th>min</th>\n",
              "      <td>1.000000</td>\n",
              "      <td>0.000000</td>\n",
              "    </tr>\n",
              "    <tr>\n",
              "      <th>25%</th>\n",
              "      <td>1.000000</td>\n",
              "      <td>0.000000</td>\n",
              "    </tr>\n",
              "    <tr>\n",
              "      <th>50%</th>\n",
              "      <td>3.000000</td>\n",
              "      <td>0.000000</td>\n",
              "    </tr>\n",
              "    <tr>\n",
              "      <th>75%</th>\n",
              "      <td>5.000000</td>\n",
              "      <td>1.000000</td>\n",
              "    </tr>\n",
              "    <tr>\n",
              "      <th>max</th>\n",
              "      <td>5.000000</td>\n",
              "      <td>8195.000000</td>\n",
              "    </tr>\n",
              "  </tbody>\n",
              "</table>\n",
              "</div>"
            ],
            "text/plain": [
              "             Rating  Total_thumbsup\n",
              "count  61594.000000    61594.000000\n",
              "mean       3.155989        7.649381\n",
              "std        1.673285       89.323143\n",
              "min        1.000000        0.000000\n",
              "25%        1.000000        0.000000\n",
              "50%        3.000000        0.000000\n",
              "75%        5.000000        1.000000\n",
              "max        5.000000     8195.000000"
            ]
          },
          "execution_count": 6,
          "metadata": {},
          "output_type": "execute_result"
        }
      ],
      "source": [
        "df.describe()"
      ]
    },
    {
      "cell_type": "markdown",
      "metadata": {
        "id": "jDv6dlvtClC0"
      },
      "source": [
        "The mean of total upvotes of reviews grouped by the presence of replies"
      ]
    },
    {
      "cell_type": "code",
      "execution_count": 7,
      "metadata": {
        "id": "IbEsU0b8ClC1"
      },
      "outputs": [],
      "source": [
        "x = pd.concat((df['Total_thumbsup'], (df['Reply'].isna() == False).astype('str')), axis=1)\n",
        "y = x.groupby('Reply')['Total_thumbsup'].mean()"
      ]
    },
    {
      "cell_type": "code",
      "execution_count": 8,
      "metadata": {
        "colab": {
          "base_uri": "https://localhost:8080/",
          "height": 312
        },
        "id": "_1ai7NC4ClC2",
        "outputId": "b9700988-87ed-4c97-8eb8-66a17d3c5323"
      },
      "outputs": [
        {
          "data": {
            "text/plain": [
              "Text(0, 0.5, 'Mean number of Upvotes')"
            ]
          },
          "execution_count": 8,
          "metadata": {},
          "output_type": "execute_result"
        },
        {
          "data": {
            "image/png": "[encoded data removed]",
            "text/plain": [
              "<Figure size 432x288 with 1 Axes>"
            ]
          },
          "metadata": {
            "needs_background": "light"
          },
          "output_type": "display_data"
        }
      ],
      "source": [
        "plt.bar(['Without reply', 'With reply'], y.values)\n",
        "plt.title('Mean Number of Upvotes Grouped by the Presence of Replies')\n",
        "plt.xlabel('Reply')\n",
        "plt.ylabel('Mean number of Upvotes')"
      ]
    },
    {
      "cell_type": "markdown",
      "metadata": {
        "id": "bjOnpMGqClC3"
      },
      "source": [
        "Distribution of ratings and the distribution of the number of upvotes"
      ]
    },
    {
      "cell_type": "code",
      "execution_count": 9,
      "metadata": {
        "colab": {
          "base_uri": "https://localhost:8080/",
          "height": 297
        },
        "id": "nxpzNkp-p7eY",
        "outputId": "5da8164d-a539-4fc0-8f57-c2f34eedee5d"
      },
      "outputs": [
        {
          "data": {
            "image/png": "[encoded data removed]",
            "text/plain": [
              "<Figure size 432x288 with 2 Axes>"
            ]
          },
          "metadata": {
            "needs_background": "light"
          },
          "output_type": "display_data"
        }
      ],
      "source": [
        "fig = plt.figure()\n",
        "ax1 = fig.add_subplot(211)\n",
        "ax1.hist(df['Rating'].values, bins=100)\n",
        "ax1.set_title('Distribution of Ratings')\n",
        "ax1.set_xlabel('Rating')\n",
        "ax1.set_ylabel('Counts')\n",
        "ax2 = fig.add_subplot(212)\n",
        "ax2.hist(df['Total_thumbsup'][df['Total_thumbsup'] < 100].values, bins=100)\n",
        "ax2.set_title('Distribution of Upvotes')\n",
        "ax2.set_xlabel('Number of Upvotes')\n",
        "ax2.set_ylabel('Counts')\n",
        "ax2.set_xlim(0,20)\n",
        "plt.tight_layout()\n",
        "plt.show()"
      ]
    },
    {
      "cell_type": "code",
      "execution_count": 10,
      "metadata": {
        "colab": {
          "base_uri": "https://localhost:8080/"
        },
        "id": "MrtT4BBHp7ea",
        "outputId": "9a7e69a3-36af-4bd9-e538-ed81175444bf"
      },
      "outputs": [
        {
          "data": {
            "text/plain": [
              "8195"
            ]
          },
          "execution_count": 10,
          "metadata": {},
          "output_type": "execute_result"
        }
      ],
      "source": [
        "df['Total_thumbsup'].max()"
      ]
    },
    {
      "cell_type": "code",
      "execution_count": 11,
      "metadata": {
        "id": "XYfAdmZAp7eb"
      },
      "outputs": [],
      "source": [
        "df['Time_submitted'] = pd.to_datetime(df['Time_submitted'], format='%Y-%m-%d %H:%M:%S')"
      ]
    },
    {
      "cell_type": "code",
      "execution_count": 12,
      "metadata": {
        "id": "dqvkWWUZp7ec"
      },
      "outputs": [],
      "source": [
        "group_month = df.groupby(df['Time_submitted'].dt.month)"
      ]
    },
    {
      "cell_type": "code",
      "execution_count": 13,
      "metadata": {
        "id": "vECLZM-Ep7ed"
      },
      "outputs": [],
      "source": [
        "review_count_by_month = group_month['Rating'].count()"
      ]
    },
    {
      "cell_type": "code",
      "execution_count": 14,
      "metadata": {
        "colab": {
          "base_uri": "https://localhost:8080/",
          "height": 350
        },
        "id": "asg7MFcVp7ed",
        "outputId": "6ced8f5f-9dd5-4415-bfd3-7191d18a85f6"
      },
      "outputs": [
        {
          "data": {
            "image/png": "[encoded data removed]",
            "text/plain": [
              "<Figure size 432x288 with 1 Axes>"
            ]
          },
          "metadata": {
            "needs_background": "light"
          },
          "output_type": "display_data"
        }
      ],
      "source": [
        "plt.bar(review_count_by_month.index, review_count_by_month.values)\n",
        "plt.gca().set_xticks([1,2,3,4,5,6,7], ['January', 'February', 'March', 'April', 'May', 'June', 'July'])\n",
        "plt.title('Number of Reviews by month in 2022')\n",
        "plt.xlabel('Month')\n",
        "plt.ylabel('Count')\n",
        "plt.show()"
      ]
    },
    {
      "cell_type": "markdown",
      "metadata": {
        "id": "SuV8hSOqp7ee"
      },
      "source": [
        "### Preprocessing"
      ]
    },
    {
      "cell_type": "markdown",
      "metadata": {
        "id": "iWopn5Asp7ef"
      },
      "source": [
        "Lower Case"
      ]
    },
    {
      "cell_type": "code",
      "execution_count": 15,
      "metadata": {
        "id": "a-vsN7k1p7ef"
      },
      "outputs": [],
      "source": [
        "df['Review'] = df['Review'].str.lower()"
      ]
    },
    {
      "cell_type": "markdown",
      "metadata": {
        "id": "Zh1VZEKSp7eg"
      },
      "source": [
        "Remove Punctuations"
      ]
    },
    {
      "cell_type": "code",
      "execution_count": 16,
      "metadata": {
        "id": "H0oqnzbsp7eg"
      },
      "outputs": [],
      "source": [
        "df['Review'] = df['Review'].str.replace('[^\\w ]+', '', regex=True)"
      ]
    },
    {
      "cell_type": "markdown",
      "metadata": {},
      "source": [
        "Remove stop words (Stop words are words that occur frequently but do not add much meaning to the sentence e.g. the, and, herself etc.)"
      ]
    },
    {
      "cell_type": "code",
      "execution_count": 24,
      "metadata": {},
      "outputs": [
        {
          "name": "stderr",
          "output_type": "stream",
          "text": [
            "[nltk_data] Downloading package stopwords to C:\\Users\\Oscar\n",
            "[nltk_data]     Wong\\AppData\\Roaming\\nltk_data...\n",
            "[nltk_data]   Package stopwords is already up-to-date!\n",
            "100%|██████████| 61594/61594 [31:40<00:00, 32.42it/s]  \n"
          ]
        }
      ],
      "source": [
        "import nltk\n",
        "from nltk.corpus import stopwords\n",
        "from tqdm import tqdm\n",
        "tqdm.pandas()\n",
        "\n",
        "nltk.download('stopwords')\n",
        "\n",
        "def remove_stop_words(sentence):\n",
        "    new_words = []\n",
        "    for word in sentence.split():\n",
        "        if word not in stopwords.words('english'):\n",
        "            new_words.append(word)\n",
        "    return \" \".join(new_words)\n",
        "\n",
        "df['Review'] = df['Review'].progress_apply(remove_stop_words)"
      ]
    },
    {
      "cell_type": "code",
      "execution_count": 26,
      "metadata": {},
      "outputs": [
        {
          "data": {
            "text/plain": [
              "[[('app', 11598),\n",
              "  ('song', 5915),\n",
              "  ('songs', 5706),\n",
              "  ('spotify', 5439),\n",
              "  ('music', 5418),\n",
              "  ('play', 5092),\n",
              "  ('cant', 4482),\n",
              "  ('even', 3469),\n",
              "  ('premium', 3268),\n",
              "  ('listen', 2939),\n",
              "  ('ads', 2897),\n",
              "  ('playing', 2861),\n",
              "  ('dont', 2731),\n",
              "  ('update', 2659),\n",
              "  ('im', 2526),\n",
              "  ('playlist', 2435),\n",
              "  ('want', 2426),\n",
              "  ('like', 2368),\n",
              "  ('fix', 2183),\n",
              "  ('get', 2063),\n",
              "  ('doesnt', 1879),\n",
              "  ('time', 1872),\n",
              "  ('every', 1764),\n",
              "  ('use', 1729),\n",
              "  ('one', 1623),\n",
              "  ('please', 1595),\n",
              "  ('phone', 1588),\n",
              "  ('back', 1517),\n",
              "  ('wont', 1402),\n",
              "  ('stop', 1384),\n",
              "  ('work', 1297),\n",
              "  ('still', 1297),\n",
              "  ('account', 1253),\n",
              "  ('pay', 1226),\n",
              "  ('new', 1215),\n",
              "  ('keeps', 1200),\n",
              "  ('ive', 1172),\n",
              "  ('many', 1161),\n",
              "  ('also', 1137),\n",
              "  ('good', 1111),\n",
              "  ('plays', 1021),\n",
              "  ('free', 1020),\n",
              "  ('without', 1014),\n",
              "  ('really', 1009),\n",
              "  ('skip', 977),\n",
              "  ('way', 972),\n",
              "  ('annoying', 965),\n",
              "  ('used', 960),\n",
              "  ('would', 952),\n",
              "  ('podcasts', 941),\n",
              "  ('go', 933),\n",
              "  ('listening', 926),\n",
              "  ('let', 907),\n",
              "  ('working', 905),\n",
              "  ('playlists', 900),\n",
              "  ('downloaded', 882),\n",
              "  ('using', 877),\n",
              "  ('shuffle', 868),\n",
              "  ('randomly', 864),\n",
              "  ('since', 859),\n",
              "  ('service', 849),\n",
              "  ('random', 838),\n",
              "  ('tried', 837),\n",
              "  ('last', 836),\n",
              "  ('open', 829),\n",
              "  ('try', 829),\n",
              "  ('much', 818),\n",
              "  ('paying', 813),\n",
              "  ('never', 806),\n",
              "  ('times', 803),\n",
              "  ('better', 789),\n",
              "  ('make', 774),\n",
              "  ('subscription', 764),\n",
              "  ('worst', 762),\n",
              "  ('stops', 760),\n",
              "  ('podcast', 757),\n",
              "  ('money', 753),\n",
              "  ('offline', 748),\n",
              "  ('years', 748),\n",
              "  ('issue', 739),\n",
              "  ('always', 738),\n",
              "  ('problem', 737),\n",
              "  ('ad', 733),\n",
              "  ('add', 729),\n",
              "  ('going', 723),\n",
              "  ('bad', 722),\n",
              "  ('log', 716),\n",
              "  ('1', 708),\n",
              "  ('internet', 708),\n",
              "  ('2', 704),\n",
              "  ('pause', 696),\n",
              "  ('something', 696),\n",
              "  ('bar', 693),\n",
              "  ('version', 684),\n",
              "  ('need', 681),\n",
              "  ('getting', 675),\n",
              "  ('constantly', 653),\n",
              "  ('download', 651),\n",
              "  ('know', 644),\n",
              "  ('another', 639),\n",
              "  ('show', 638),\n",
              "  ('ever', 620),\n",
              "  ('minutes', 616),\n",
              "  ('keep', 616),\n",
              "  ('able', 608),\n",
              "  ('give', 603),\n",
              "  ('screen', 592),\n",
              "  ('great', 591),\n",
              "  ('nothing', 590),\n",
              "  ('issues', 589),\n",
              "  ('see', 587),\n",
              "  ('3', 585),\n",
              "  ('hate', 579),\n",
              "  ('connection', 576),\n",
              "  ('5', 572),\n",
              "  ('anymore', 570),\n",
              "  ('reason', 570),\n",
              "  ('change', 565),\n",
              "  ('different', 564),\n",
              "  ('star', 558),\n",
              "  ('got', 550),\n",
              "  ('android', 545),\n",
              "  ('start', 537),\n",
              "  ('anything', 532),\n",
              "  ('youtube', 530),\n",
              "  ('adds', 527),\n",
              "  ('experience', 527),\n",
              "  ('crashes', 526),\n",
              "  ('says', 524),\n",
              "  ('works', 514),\n",
              "  ('apps', 512),\n",
              "  ('terrible', 507),\n",
              "  ('didnt', 506),\n",
              "  ('cannot', 502),\n",
              "  ('trying', 498),\n",
              "  ('user', 492),\n",
              "  ('people', 488),\n",
              "  ('button', 487),\n",
              "  ('find', 483),\n",
              "  ('sucks', 481),\n",
              "  ('month', 479),\n",
              "  ('love', 476),\n",
              "  ('thing', 476),\n",
              "  ('30', 475),\n",
              "  ('bluetooth', 475),\n",
              "  ('sometimes', 471),\n",
              "  ('skips', 469),\n",
              "  ('option', 468),\n",
              "  ('search', 466),\n",
              "  ('bugs', 461),\n",
              "  ('6', 459),\n",
              "  ('fixed', 457),\n",
              "  ('thats', 456),\n",
              "  ('could', 456),\n",
              "  ('player', 453),\n",
              "  ('worse', 450),\n",
              "  ('u', 448),\n",
              "  ('latest', 439),\n",
              "  ('fine', 437),\n",
              "  ('first', 436),\n",
              "  ('days', 434),\n",
              "  ('close', 434),\n",
              "  ('hear', 433),\n",
              "  ('liked', 431),\n",
              "  ('logged', 430),\n",
              "  ('theres', 427),\n",
              "  ('data', 424),\n",
              "  ('day', 424),\n",
              "  ('whats', 422),\n",
              "  ('crashing', 418),\n",
              "  ('car', 415),\n",
              "  ('instead', 414),\n",
              "  ('support', 414),\n",
              "  ('everything', 411),\n",
              "  ('login', 410),\n",
              "  ('months', 410),\n",
              "  ('completely', 407),\n",
              "  ('isnt', 406),\n",
              "  ('well', 404),\n",
              "  ('force', 399),\n",
              "  ('longer', 397),\n",
              "  ('restart', 394),\n",
              "  ('buggy', 391),\n",
              "  ('made', 389),\n",
              "  ('shows', 389),\n",
              "  ('choose', 388),\n",
              "  ('control', 384),\n",
              "  ('feature', 383),\n",
              "  ('ill', 382),\n",
              "  ('frustrating', 380),\n",
              "  ('horrible', 379),\n",
              "  ('wrong', 378),\n",
              "  ('literally', 376),\n",
              "  ('click', 374),\n",
              "  ('turn', 372),\n",
              "  ('showing', 371),\n",
              "  ('wifi', 369),\n",
              "  ('though', 369),\n",
              "  ('put', 368),\n",
              "  ('recently', 366)],\n",
              " [('app', 4623),\n",
              "  ('songs', 2791),\n",
              "  ('song', 2491),\n",
              "  ('music', 2393),\n",
              "  ('spotify', 2153),\n",
              "  ('play', 2138),\n",
              "  ('cant', 1641),\n",
              "  ('playing', 1466),\n",
              "  ('like', 1316),\n",
              "  ('premium', 1288),\n",
              "  ('ads', 1285),\n",
              "  ('listen', 1248),\n",
              "  ('playlist', 1217),\n",
              "  ('even', 1172),\n",
              "  ('im', 1133),\n",
              "  ('update', 1114),\n",
              "  ('dont', 1053),\n",
              "  ('fix', 990),\n",
              "  ('get', 986),\n",
              "  ('want', 967),\n",
              "  ('please', 927),\n",
              "  ('good', 830),\n",
              "  ('time', 771),\n",
              "  ('use', 740),\n",
              "  ('doesnt', 737),\n",
              "  ('every', 708),\n",
              "  ('phone', 705),\n",
              "  ('stop', 644),\n",
              "  ('annoying', 644),\n",
              "  ('really', 643),\n",
              "  ('ive', 620),\n",
              "  ('back', 612),\n",
              "  ('also', 602),\n",
              "  ('one', 570),\n",
              "  ('wont', 557),\n",
              "  ('great', 526),\n",
              "  ('keeps', 510),\n",
              "  ('many', 509),\n",
              "  ('work', 507),\n",
              "  ('listening', 483),\n",
              "  ('shuffle', 481),\n",
              "  ('used', 476),\n",
              "  ('new', 463),\n",
              "  ('skip', 461),\n",
              "  ('randomly', 459),\n",
              "  ('still', 459),\n",
              "  ('without', 455),\n",
              "  ('way', 455),\n",
              "  ('2', 453),\n",
              "  ('would', 445),\n",
              "  ('podcasts', 440),\n",
              "  ('love', 439),\n",
              "  ('pay', 438),\n",
              "  ('using', 429),\n",
              "  ('plays', 425),\n",
              "  ('go', 422),\n",
              "  ('times', 416),\n",
              "  ('pause', 409),\n",
              "  ('bar', 406),\n",
              "  ('last', 400),\n",
              "  ('sometimes', 395),\n",
              "  ('playlists', 393),\n",
              "  ('stops', 384),\n",
              "  ('downloaded', 377),\n",
              "  ('add', 376),\n",
              "  ('free', 374),\n",
              "  ('problem', 364),\n",
              "  ('since', 356),\n",
              "  ('offline', 341),\n",
              "  ('years', 333),\n",
              "  ('podcast', 328),\n",
              "  ('much', 327),\n",
              "  ('ad', 327),\n",
              "  ('issue', 324),\n",
              "  ('keep', 319),\n",
              "  ('5', 317),\n",
              "  ('open', 315),\n",
              "  ('need', 312),\n",
              "  ('random', 308),\n",
              "  ('always', 306),\n",
              "  ('know', 305),\n",
              "  ('working', 303),\n",
              "  ('let', 303),\n",
              "  ('show', 300),\n",
              "  ('reason', 299),\n",
              "  ('screen', 297),\n",
              "  ('version', 297),\n",
              "  ('make', 296),\n",
              "  ('issues', 295),\n",
              "  ('close', 294),\n",
              "  ('try', 290),\n",
              "  ('getting', 287),\n",
              "  ('see', 287),\n",
              "  ('something', 286),\n",
              "  ('minutes', 282),\n",
              "  ('service', 277),\n",
              "  ('recently', 276),\n",
              "  ('going', 273),\n",
              "  ('account', 272),\n",
              "  ('liked', 269),\n",
              "  ('never', 265),\n",
              "  ('3', 263),\n",
              "  ('constantly', 263),\n",
              "  ('bugs', 263),\n",
              "  ('able', 262),\n",
              "  ('paying', 259),\n",
              "  ('restart', 257),\n",
              "  ('internet', 253),\n",
              "  ('better', 253),\n",
              "  ('another', 253),\n",
              "  ('find', 252),\n",
              "  ('change', 250),\n",
              "  ('tried', 249),\n",
              "  ('works', 246),\n",
              "  ('fixed', 243),\n",
              "  ('anymore', 243),\n",
              "  ('android', 240),\n",
              "  ('buggy', 239),\n",
              "  ('skips', 237),\n",
              "  ('different', 236),\n",
              "  ('thing', 233),\n",
              "  ('download', 232),\n",
              "  ('crashes', 229),\n",
              "  ('bluetooth', 228),\n",
              "  ('option', 228),\n",
              "  ('control', 224),\n",
              "  ('frustrating', 222),\n",
              "  ('30', 221),\n",
              "  ('first', 216),\n",
              "  ('user', 215),\n",
              "  ('fine', 214),\n",
              "  ('subscription', 213),\n",
              "  ('bad', 212),\n",
              "  ('player', 211),\n",
              "  ('button', 208),\n",
              "  ('adds', 208),\n",
              "  ('search', 207),\n",
              "  ('lot', 207),\n",
              "  ('start', 207),\n",
              "  ('got', 206),\n",
              "  ('6', 205),\n",
              "  ('car', 205),\n",
              "  ('give', 205),\n",
              "  ('stars', 202),\n",
              "  ('crashing', 202),\n",
              "  ('controls', 201),\n",
              "  ('experience', 200),\n",
              "  ('could', 198),\n",
              "  ('long', 198),\n",
              "  ('isnt', 197),\n",
              "  ('feature', 197),\n",
              "  ('theres', 196),\n",
              "  ('anything', 196),\n",
              "  ('whats', 196),\n",
              "  ('didnt', 196),\n",
              "  ('connection', 196),\n",
              "  ('latest', 196),\n",
              "  ('lately', 196),\n",
              "  ('apps', 195),\n",
              "  ('day', 193),\n",
              "  ('hate', 192),\n",
              "  ('youtube', 189),\n",
              "  ('trying', 188),\n",
              "  ('often', 186),\n",
              "  ('recent', 186),\n",
              "  ('says', 185),\n",
              "  ('thats', 184),\n",
              "  ('well', 182),\n",
              "  ('everything', 181),\n",
              "  ('money', 176),\n",
              "  ('hear', 174),\n",
              "  ('cannot', 174),\n",
              "  ('bug', 173),\n",
              "  ('force', 172),\n",
              "  ('next', 172),\n",
              "  ('nothing', 172),\n",
              "  ('mobile', 172),\n",
              "  ('problems', 171),\n",
              "  ('people', 171),\n",
              "  ('month', 171),\n",
              "  ('played', 170),\n",
              "  ('wifi', 169),\n",
              "  ('though', 169),\n",
              "  ('put', 169),\n",
              "  ('instead', 168),\n",
              "  ('updates', 163),\n",
              "  ('two', 162),\n",
              "  ('longer', 162),\n",
              "  ('list', 162),\n",
              "  ('worse', 161),\n",
              "  ('hour', 161),\n",
              "  ('months', 161),\n",
              "  ('data', 160),\n",
              "  ('started', 160),\n",
              "  ('makes', 158),\n",
              "  ('made', 156),\n",
              "  ('days', 156),\n",
              "  ('choose', 155),\n",
              "  ('think', 154),\n",
              "  ('seems', 153)],\n",
              " [('app', 4061),\n",
              "  ('songs', 2820),\n",
              "  ('music', 2339),\n",
              "  ('song', 2235),\n",
              "  ('spotify', 1906),\n",
              "  ('play', 1635),\n",
              "  ('like', 1481),\n",
              "  ('ads', 1312),\n",
              "  ('cant', 1285),\n",
              "  ('good', 1167),\n",
              "  ('playlist', 1164),\n",
              "  ('premium', 1105),\n",
              "  ('dont', 1104),\n",
              "  ('listen', 1102),\n",
              "  ('playing', 1077),\n",
              "  ('please', 969),\n",
              "  ('im', 950),\n",
              "  ('fix', 906),\n",
              "  ('get', 817),\n",
              "  ('even', 796),\n",
              "  ('want', 793),\n",
              "  ('update', 775),\n",
              "  ('really', 734),\n",
              "  ('great', 697),\n",
              "  ('love', 660),\n",
              "  ('annoying', 652),\n",
              "  ('time', 626),\n",
              "  ('doesnt', 622),\n",
              "  ('would', 620),\n",
              "  ('one', 605),\n",
              "  ('also', 604),\n",
              "  ('phone', 601),\n",
              "  ('every', 589),\n",
              "  ('use', 565),\n",
              "  ('back', 544),\n",
              "  ('stop', 508),\n",
              "  ('listening', 502),\n",
              "  ('many', 499),\n",
              "  ('still', 490),\n",
              "  ('problem', 476),\n",
              "  ('new', 475),\n",
              "  ('ive', 458),\n",
              "  ('sometimes', 453),\n",
              "  ('shuffle', 429),\n",
              "  ('add', 413),\n",
              "  ('3', 407),\n",
              "  ('go', 404),\n",
              "  ('work', 403),\n",
              "  ('playlists', 401),\n",
              "  ('way', 388),\n",
              "  ('keeps', 363),\n",
              "  ('using', 360),\n",
              "  ('much', 359),\n",
              "  ('wont', 351),\n",
              "  ('plays', 347),\n",
              "  ('podcasts', 341),\n",
              "  ('skip', 340),\n",
              "  ('without', 339),\n",
              "  ('5', 333),\n",
              "  ('need', 330),\n",
              "  ('downloaded', 327),\n",
              "  ('make', 323),\n",
              "  ('stars', 322),\n",
              "  ('issue', 321),\n",
              "  ('free', 318),\n",
              "  ('know', 317),\n",
              "  ('times', 316),\n",
              "  ('option', 312),\n",
              "  ('pay', 307),\n",
              "  ('ad', 303),\n",
              "  ('2', 303),\n",
              "  ('randomly', 300),\n",
              "  ('better', 294),\n",
              "  ('podcast', 293),\n",
              "  ('offline', 291),\n",
              "  ('bar', 291),\n",
              "  ('stops', 290),\n",
              "  ('lyrics', 290),\n",
              "  ('give', 285),\n",
              "  ('always', 284),\n",
              "  ('used', 283),\n",
              "  ('last', 281),\n",
              "  ('issues', 276),\n",
              "  ('liked', 274),\n",
              "  ('since', 274),\n",
              "  ('pause', 273),\n",
              "  ('working', 269),\n",
              "  ('random', 267),\n",
              "  ('try', 267),\n",
              "  ('open', 265),\n",
              "  ('change', 262),\n",
              "  ('could', 262),\n",
              "  ('recently', 262),\n",
              "  ('able', 261),\n",
              "  ('thing', 260),\n",
              "  ('show', 259),\n",
              "  ('feature', 255),\n",
              "  ('lot', 255),\n",
              "  ('reason', 253),\n",
              "  ('see', 253),\n",
              "  ('adds', 253),\n",
              "  ('find', 251),\n",
              "  ('download', 248),\n",
              "  ('something', 245),\n",
              "  ('keep', 245),\n",
              "  ('years', 242),\n",
              "  ('screen', 240),\n",
              "  ('getting', 239),\n",
              "  ('let', 237),\n",
              "  ('version', 231),\n",
              "  ('button', 224),\n",
              "  ('works', 222),\n",
              "  ('android', 219),\n",
              "  ('account', 219),\n",
              "  ('fine', 217),\n",
              "  ('bugs', 215),\n",
              "  ('another', 214),\n",
              "  ('skips', 212),\n",
              "  ('minutes', 211),\n",
              "  ('well', 209),\n",
              "  ('tried', 208),\n",
              "  ('theres', 207),\n",
              "  ('30', 205),\n",
              "  ('close', 204),\n",
              "  ('search', 203),\n",
              "  ('got', 201),\n",
              "  ('never', 198),\n",
              "  ('u', 197),\n",
              "  ('internet', 197),\n",
              "  ('going', 196),\n",
              "  ('nice', 196),\n",
              "  ('experience', 196),\n",
              "  ('quality', 194),\n",
              "  ('first', 191),\n",
              "  ('different', 188),\n",
              "  ('thats', 186),\n",
              "  ('6', 185),\n",
              "  ('though', 185),\n",
              "  ('start', 184),\n",
              "  ('player', 180),\n",
              "  ('user', 180),\n",
              "  ('long', 178),\n",
              "  ('mobile', 178),\n",
              "  ('hear', 177),\n",
              "  ('hate', 177),\n",
              "  ('connection', 174),\n",
              "  ('everything', 174),\n",
              "  ('anymore', 173),\n",
              "  ('restart', 171),\n",
              "  ('lately', 170),\n",
              "  ('isnt', 170),\n",
              "  ('pretty', 169),\n",
              "  ('service', 168),\n",
              "  ('best', 168),\n",
              "  ('album', 165),\n",
              "  ('however', 165),\n",
              "  ('hope', 165),\n",
              "  ('next', 163),\n",
              "  ('apps', 163),\n",
              "  ('put', 162),\n",
              "  ('fixed', 162),\n",
              "  ('paying', 160),\n",
              "  ('instead', 158),\n",
              "  ('list', 158),\n",
              "  ('played', 158),\n",
              "  ('1', 158),\n",
              "  ('frustrating', 158),\n",
              "  ('didnt', 157),\n",
              "  ('nothing', 155),\n",
              "  ('day', 155),\n",
              "  ('bad', 154),\n",
              "  ('think', 151),\n",
              "  ('log', 150),\n",
              "  ('things', 150),\n",
              "  ('mode', 149),\n",
              "  ('recent', 148),\n",
              "  ('artists', 147),\n",
              "  ('trying', 146),\n",
              "  ('started', 146),\n",
              "  ('data', 145),\n",
              "  ('constantly', 143),\n",
              "  ('queue', 143),\n",
              "  ('choose', 141),\n",
              "  ('click', 141),\n",
              "  ('money', 141),\n",
              "  ('makes', 140),\n",
              "  ('needs', 140),\n",
              "  ('anything', 138),\n",
              "  ('problems', 137),\n",
              "  ('whenever', 135),\n",
              "  ('seems', 134),\n",
              "  ('two', 134),\n",
              "  ('days', 133),\n",
              "  ('says', 133),\n",
              "  ('subscription', 133),\n",
              "  ('bug', 132),\n",
              "  ('hour', 130),\n",
              "  ('crashes', 130),\n",
              "  ('car', 130),\n",
              "  ('bluetooth', 130)],\n",
              " [('app', 4444),\n",
              "  ('music', 2958),\n",
              "  ('songs', 2717),\n",
              "  ('spotify', 2011),\n",
              "  ('good', 2008),\n",
              "  ('song', 1814),\n",
              "  ('like', 1684),\n",
              "  ('ads', 1469),\n",
              "  ('great', 1429),\n",
              "  ('love', 1321),\n",
              "  ('premium', 1164),\n",
              "  ('play', 1127),\n",
              "  ('listen', 1045),\n",
              "  ('dont', 990),\n",
              "  ('playlist', 977),\n",
              "  ('would', 940),\n",
              "  ('cant', 887),\n",
              "  ('really', 857),\n",
              "  ('one', 782),\n",
              "  ('get', 733),\n",
              "  ('im', 730),\n",
              "  ('please', 711),\n",
              "  ('use', 680),\n",
              "  ('want', 668),\n",
              "  ('add', 567),\n",
              "  ('problem', 539),\n",
              "  ('even', 538),\n",
              "  ('sometimes', 532),\n",
              "  ('playing', 531),\n",
              "  ('many', 515),\n",
              "  ('listening', 512),\n",
              "  ('time', 510),\n",
              "  ('also', 505),\n",
              "  ('fix', 491),\n",
              "  ('stars', 484),\n",
              "  ('annoying', 476),\n",
              "  ('still', 474),\n",
              "  ('best', 471),\n",
              "  ('playlists', 460),\n",
              "  ('every', 460),\n",
              "  ('much', 448),\n",
              "  ('lyrics', 437),\n",
              "  ('5', 434),\n",
              "  ('thing', 421),\n",
              "  ('ive', 419),\n",
              "  ('new', 414),\n",
              "  ('free', 413),\n",
              "  ('phone', 407),\n",
              "  ('update', 405),\n",
              "  ('doesnt', 396),\n",
              "  ('better', 396),\n",
              "  ('could', 395),\n",
              "  ('nice', 392),\n",
              "  ('4', 383),\n",
              "  ('amazing', 376),\n",
              "  ('using', 376),\n",
              "  ('give', 355),\n",
              "  ('make', 349),\n",
              "  ('find', 347),\n",
              "  ('back', 343),\n",
              "  ('wish', 342),\n",
              "  ('podcasts', 340),\n",
              "  ('without', 337),\n",
              "  ('adds', 335),\n",
              "  ('option', 318),\n",
              "  ('way', 303),\n",
              "  ('download', 298),\n",
              "  ('go', 297),\n",
              "  ('quality', 296),\n",
              "  ('overall', 291),\n",
              "  ('need', 288),\n",
              "  ('able', 284),\n",
              "  ('know', 284),\n",
              "  ('feature', 283),\n",
              "  ('work', 281),\n",
              "  ('shuffle', 280),\n",
              "  ('issue', 280),\n",
              "  ('experience', 277),\n",
              "  ('easy', 277),\n",
              "  ('lot', 274),\n",
              "  ('everything', 272),\n",
              "  ('pay', 262),\n",
              "  ('well', 260),\n",
              "  ('always', 258),\n",
              "  ('pretty', 257),\n",
              "  ('though', 256),\n",
              "  ('offline', 254),\n",
              "  ('see', 249),\n",
              "  ('version', 242),\n",
              "  ('think', 239),\n",
              "  ('liked', 238),\n",
              "  ('u', 238),\n",
              "  ('ad', 237),\n",
              "  ('skip', 232),\n",
              "  ('times', 228),\n",
              "  ('thats', 225),\n",
              "  ('years', 223),\n",
              "  ('star', 222),\n",
              "  ('works', 220),\n",
              "  ('enjoy', 219),\n",
              "  ('2', 217),\n",
              "  ('available', 215),\n",
              "  ('stop', 213),\n",
              "  ('downloaded', 212),\n",
              "  ('otherwise', 206),\n",
              "  ('apps', 205),\n",
              "  ('wont', 205),\n",
              "  ('used', 202),\n",
              "  ('reason', 202),\n",
              "  ('1', 200),\n",
              "  ('since', 197),\n",
              "  ('something', 194),\n",
              "  ('however', 192),\n",
              "  ('keep', 189),\n",
              "  ('theres', 189),\n",
              "  ('change', 188),\n",
              "  ('plays', 188),\n",
              "  ('artists', 187),\n",
              "  ('different', 183),\n",
              "  ('let', 181),\n",
              "  ('bit', 179),\n",
              "  ('30', 176),\n",
              "  ('service', 174),\n",
              "  ('got', 174),\n",
              "  ('awesome', 173),\n",
              "  ('long', 173),\n",
              "  ('sound', 172),\n",
              "  ('ever', 172),\n",
              "  ('recently', 171),\n",
              "  ('list', 170),\n",
              "  ('button', 170),\n",
              "  ('try', 168),\n",
              "  ('didnt', 166),\n",
              "  ('3', 165),\n",
              "  ('streaming', 164),\n",
              "  ('issues', 163),\n",
              "  ('favorite', 162),\n",
              "  ('hope', 161),\n",
              "  ('features', 161),\n",
              "  ('skips', 160),\n",
              "  ('minutes', 160),\n",
              "  ('open', 159),\n",
              "  ('working', 159),\n",
              "  ('podcast', 158),\n",
              "  ('search', 158),\n",
              "  ('put', 157),\n",
              "  ('recommend', 156),\n",
              "  ('getting', 156),\n",
              "  ('another', 155),\n",
              "  ('say', 152),\n",
              "  ('artist', 151),\n",
              "  ('random', 151),\n",
              "  ('little', 150),\n",
              "  ('album', 149),\n",
              "  ('account', 148),\n",
              "  ('fixed', 147),\n",
              "  ('fine', 147),\n",
              "  ('internet', 147),\n",
              "  ('show', 145),\n",
              "  ('hate', 145),\n",
              "  ('keeps', 145),\n",
              "  ('never', 143),\n",
              "  ('bad', 142),\n",
              "  ('thank', 141),\n",
              "  ('less', 140),\n",
              "  ('screen', 139),\n",
              "  ('needs', 139),\n",
              "  ('last', 139),\n",
              "  ('next', 137),\n",
              "  ('things', 136),\n",
              "  ('far', 136),\n",
              "  ('android', 134),\n",
              "  ('user', 133),\n",
              "  ('hear', 132),\n",
              "  ('people', 132),\n",
              "  ('come', 131),\n",
              "  ('day', 130),\n",
              "  ('youtube', 129),\n",
              "  ('stops', 128),\n",
              "  ('subscription', 127),\n",
              "  ('randomly', 126),\n",
              "  ('mobile', 126),\n",
              "  ('isnt', 125),\n",
              "  ('bugs', 124),\n",
              "  ('almost', 123),\n",
              "  ('mode', 122),\n",
              "  ('except', 122),\n",
              "  ('perfect', 121),\n",
              "  ('selection', 119),\n",
              "  ('6', 117),\n",
              "  ('bar', 117),\n",
              "  ('fact', 116),\n",
              "  ('audio', 115),\n",
              "  ('gets', 115),\n",
              "  ('choose', 114),\n",
              "  ('played', 113),\n",
              "  ('month', 112),\n",
              "  ('thanks', 112),\n",
              "  ('remove', 112),\n",
              "  ('first', 111)],\n",
              " [('music', 12333),\n",
              "  ('app', 10869),\n",
              "  ('spotify', 7264),\n",
              "  ('love', 6079),\n",
              "  ('songs', 4184),\n",
              "  ('great', 4058),\n",
              "  ('best', 3746),\n",
              "  ('good', 3604),\n",
              "  ('listen', 2991),\n",
              "  ('like', 2913),\n",
              "  ('use', 2296),\n",
              "  ('song', 2221),\n",
              "  ('premium', 2103),\n",
              "  ('easy', 1809),\n",
              "  ('really', 1765),\n",
              "  ('ads', 1541),\n",
              "  ('listening', 1521),\n",
              "  ('want', 1361),\n",
              "  ('amazing', 1348),\n",
              "  ('play', 1316),\n",
              "  ('im', 1275),\n",
              "  ('dont', 1269),\n",
              "  ('one', 1257),\n",
              "  ('get', 1254),\n",
              "  ('playlist', 1241),\n",
              "  ('find', 1179),\n",
              "  ('much', 1148),\n",
              "  ('free', 1134),\n",
              "  ('ive', 1083),\n",
              "  ('podcasts', 1078),\n",
              "  ('ever', 1060),\n",
              "  ('every', 1059),\n",
              "  ('even', 1006),\n",
              "  ('new', 992),\n",
              "  ('would', 986),\n",
              "  ('playlists', 970),\n",
              "  ('better', 960),\n",
              "  ('using', 955),\n",
              "  ('also', 954),\n",
              "  ('favorite', 939),\n",
              "  ('awesome', 933),\n",
              "  ('time', 932),\n",
              "  ('quality', 909),\n",
              "  ('enjoy', 900),\n",
              "  ('years', 871),\n",
              "  ('nice', 852),\n",
              "  ('many', 849),\n",
              "  ('always', 843),\n",
              "  ('experience', 812),\n",
              "  ('cant', 806),\n",
              "  ('thank', 784),\n",
              "  ('recommend', 774),\n",
              "  ('without', 764),\n",
              "  ('streaming', 728),\n",
              "  ('make', 673),\n",
              "  ('still', 659),\n",
              "  ('excellent', 655),\n",
              "  ('lyrics', 648),\n",
              "  ('apps', 647),\n",
              "  ('well', 638),\n",
              "  ('never', 628),\n",
              "  ('download', 627),\n",
              "  ('service', 624),\n",
              "  ('way', 623),\n",
              "  ('selection', 620),\n",
              "  ('artists', 612),\n",
              "  ('go', 610),\n",
              "  ('everything', 605),\n",
              "  ('used', 602),\n",
              "  ('please', 595),\n",
              "  ('work', 583),\n",
              "  ('phone', 575),\n",
              "  ('5', 566),\n",
              "  ('podcast', 564),\n",
              "  ('need', 558),\n",
              "  ('sound', 558),\n",
              "  ('day', 556),\n",
              "  ('add', 542),\n",
              "  ('could', 537),\n",
              "  ('able', 533),\n",
              "  ('thing', 531),\n",
              "  ('thanks', 523),\n",
              "  ('far', 518),\n",
              "  ('worth', 512),\n",
              "  ('back', 506),\n",
              "  ('keep', 499),\n",
              "  ('hear', 485),\n",
              "  ('variety', 484),\n",
              "  ('know', 479),\n",
              "  ('lot', 477),\n",
              "  ('u', 456),\n",
              "  ('playing', 444),\n",
              "  ('available', 441),\n",
              "  ('got', 439),\n",
              "  ('since', 434),\n",
              "  ('problem', 430),\n",
              "  ('works', 425),\n",
              "  ('platform', 424),\n",
              "  ('pay', 406),\n",
              "  ('update', 402),\n",
              "  ('different', 390),\n",
              "  ('absolutely', 387),\n",
              "  ('old', 381),\n",
              "  ('artist', 380),\n",
              "  ('give', 374),\n",
              "  ('stars', 372),\n",
              "  ('think', 372),\n",
              "  ('found', 368),\n",
              "  ('wish', 365),\n",
              "  ('user', 355),\n",
              "  ('adds', 346),\n",
              "  ('perfect', 344),\n",
              "  ('version', 335),\n",
              "  ('feature', 335),\n",
              "  ('life', 334),\n",
              "  ('say', 333),\n",
              "  ('thats', 332),\n",
              "  ('happy', 332),\n",
              "  ('offline', 331),\n",
              "  ('doesnt', 330),\n",
              "  ('people', 327),\n",
              "  ('choose', 320),\n",
              "  ('youtube', 314),\n",
              "  ('wonderful', 305),\n",
              "  ('long', 305),\n",
              "  ('makes', 303),\n",
              "  ('favourite', 300),\n",
              "  ('sometimes', 289),\n",
              "  ('option', 288),\n",
              "  ('see', 280),\n",
              "  ('cool', 277),\n",
              "  ('features', 274),\n",
              "  ('overall', 274),\n",
              "  ('fix', 273),\n",
              "  ('subscription', 272),\n",
              "  ('search', 269),\n",
              "  ('pretty', 268),\n",
              "  ('something', 268),\n",
              "  ('definitely', 265),\n",
              "  ('family', 263),\n",
              "  ('fantastic', 261),\n",
              "  ('made', 261),\n",
              "  ('though', 260),\n",
              "  ('choice', 258),\n",
              "  ('anything', 254),\n",
              "  ('especially', 253),\n",
              "  ('highly', 250),\n",
              "  ('almost', 249),\n",
              "  ('application', 246),\n",
              "  ('try', 243),\n",
              "  ('options', 242),\n",
              "  ('audio', 241),\n",
              "  ('pandora', 240),\n",
              "  ('annoying', 239),\n",
              "  ('right', 239),\n",
              "  ('enjoying', 238),\n",
              "  ('getting', 236),\n",
              "  ('3', 236),\n",
              "  ('issues', 236),\n",
              "  ('world', 236),\n",
              "  ('list', 235),\n",
              "  ('collection', 234),\n",
              "  ('theres', 234),\n",
              "  ('gives', 230),\n",
              "  ('problems', 226),\n",
              "  ('daily', 226),\n",
              "  ('ad', 226),\n",
              "  ('genres', 226),\n",
              "  ('plays', 225),\n",
              "  ('place', 225),\n",
              "  ('2', 222),\n",
              "  ('guys', 222),\n",
              "  ('access', 222),\n",
              "  ('everyone', 221),\n",
              "  ('issue', 221),\n",
              "  ('things', 219),\n",
              "  ('put', 218),\n",
              "  ('super', 216),\n",
              "  ('looking', 216),\n",
              "  ('wide', 215),\n",
              "  ('joe', 215),\n",
              "  ('tried', 210),\n",
              "  ('lots', 210),\n",
              "  ('account', 209),\n",
              "  ('going', 207),\n",
              "  ('havent', 206),\n",
              "  ('stop', 205),\n",
              "  ('first', 203),\n",
              "  ('little', 202),\n",
              "  ('downloaded', 201),\n",
              "  ('rogan', 201),\n",
              "  ('money', 200),\n",
              "  ('liked', 198),\n",
              "  ('everyday', 197),\n",
              "  ('10', 197),\n",
              "  ('1', 195),\n",
              "  ('hope', 195),\n",
              "  ('star', 195),\n",
              "  ('loved', 194),\n",
              "  ('radio', 191)]]"
            ]
          },
          "execution_count": 26,
          "metadata": {},
          "output_type": "execute_result"
        }
      ],
      "source": [
        "from collections import Counter\n",
        "\n",
        "group_rating = df.groupby('Rating')\n",
        "\n",
        "most_commons = []\n",
        "\n",
        "for i in range(1,6):\n",
        "    review_split_temp = group_rating.get_group(i)['Review'].str.lower().str.replace('[^\\w ]+', '', regex=True).apply(lambda x: x.split())\n",
        "    c = Counter()\n",
        "    for x in review_split_temp:\n",
        "        c.update(x)\n",
        "    most_commons.append(c.most_common(200))\n",
        "\n",
        "most_commons"
      ]
    },
    {
      "cell_type": "markdown",
      "metadata": {
        "id": "0cnOgf9MDNay"
      },
      "source": [
        "Lemmatization"
      ]
    },
    {
      "cell_type": "code",
      "execution_count": 85,
      "metadata": {
        "colab": {
          "base_uri": "https://localhost:8080/"
        },
        "id": "gD8pqo7MDLn1",
        "outputId": "a7880392-b0e7-4a3b-a4cd-a62969380aff"
      },
      "outputs": [
        {
          "name": "stderr",
          "output_type": "stream",
          "text": [
            "[nltk_data] Downloading package wordnet to /root/nltk_data...\n",
            "[nltk_data]   Package wordnet is already up-to-date!\n",
            "[nltk_data] Downloading package omw-1.4 to /root/nltk_data...\n",
            "[nltk_data]   Package omw-1.4 is already up-to-date!\n"
          ]
        }
      ],
      "source": [
        "from nltk.stem import WordNetLemmatizer\n",
        "import nltk\n",
        "\n",
        "nltk.download('wordnet')\n",
        "nltk.download('omw-1.4')\n",
        "\n",
        "lm = WordNetLemmatizer()\n",
        "\n",
        "def lemmatize(sentence):\n",
        "    new_words = []\n",
        "    words = sentence.split(' ')\n",
        "    for word in words:\n",
        "        new_words.append(lm.lemmatize(word))\n",
        "    return ' '.join(new_words)\n",
        "\n",
        "df['Review'] = df['Review'].apply(lemmatize)"
      ]
    },
    {
      "cell_type": "code",
      "execution_count": 86,
      "metadata": {
        "id": "9_MM9pw7p7ei"
      },
      "outputs": [],
      "source": [
        "X_full = df['Review'].values\n",
        "y_full = df['Rating'].values"
      ]
    },
    {
      "cell_type": "code",
      "execution_count": 93,
      "metadata": {
        "id": "V6SSaz7aClDB"
      },
      "outputs": [],
      "source": [
        "from sklearn.model_selection import train_test_split\n",
        "X_train, X_valid, y_train, y_valid = train_test_split(X_full, y_full, test_size=0.1, random_state=42)"
      ]
    },
    {
      "cell_type": "code",
      "execution_count": 94,
      "metadata": {
        "id": "_zQGiwUlp7eh"
      },
      "outputs": [],
      "source": [
        "import tensorflow as tf\n",
        "from tensorflow import keras"
      ]
    },
    {
      "cell_type": "code",
      "execution_count": 95,
      "metadata": {
        "colab": {
          "base_uri": "https://localhost:8080/"
        },
        "id": "nFetg87lClDC",
        "outputId": "f355ce18-8d9e-45fb-e867-43cdaaf4b821"
      },
      "outputs": [
        {
          "name": "stdout",
          "output_type": "stream",
          "text": [
            "5000\n"
          ]
        }
      ],
      "source": [
        "vector_layer = keras.layers.TextVectorization(5000)\n",
        "vector_layer.adapt(X_train)\n",
        "vocab_size = len(vector_layer.get_vocabulary())\n",
        "print(vocab_size)"
      ]
    },
    {
      "cell_type": "code",
      "execution_count": 99,
      "metadata": {
        "id": "ZahW27Agp7es"
      },
      "outputs": [],
      "source": [
        "embed_size = 128\n",
        "model = keras.models.Sequential([\n",
        "    vector_layer,\n",
        "    keras.layers.Embedding(5000, embed_size,\n",
        "                           mask_zero = True,\n",
        "                           input_shape=[None]),\n",
        "    keras.layers.GRU(128, return_sequences=True, kernel_regularizer='l2'),\n",
        "    keras.layers.LayerNormalization(),\n",
        "    keras.layers.GRU(128, kernel_regularizer='l2'),\n",
        "    keras.layers.Dense(1)\n",
        "])"
      ]
    },
    {
      "cell_type": "code",
      "execution_count": 100,
      "metadata": {
        "colab": {
          "base_uri": "https://localhost:8080/"
        },
        "id": "fpWmbg7up7et",
        "outputId": "8d02ef9d-7fff-47d1-bc16-c0172eb85fa6"
      },
      "outputs": [
        {
          "name": "stdout",
          "output_type": "stream",
          "text": [
            "Epoch 1/40\n",
            "1733/1733 [==============================] - 91s 21ms/step - loss: 1.5324 - root_mean_squared_error: 1.0652 - val_loss: 1.0369 - val_root_mean_squared_error: 0.9863\n",
            "Epoch 2/40\n",
            "1733/1733 [==============================] - 34s 20ms/step - loss: 0.9425 - root_mean_squared_error: 0.9451 - val_loss: 0.9901 - val_root_mean_squared_error: 0.9733\n",
            "Epoch 3/40\n",
            "1733/1733 [==============================] - 36s 20ms/step - loss: 0.8660 - root_mean_squared_error: 0.9087 - val_loss: 0.9650 - val_root_mean_squared_error: 0.9625\n",
            "Epoch 4/40\n",
            "1733/1733 [==============================] - 35s 20ms/step - loss: 0.8134 - root_mean_squared_error: 0.8803 - val_loss: 0.9452 - val_root_mean_squared_error: 0.9553\n",
            "Epoch 5/40\n",
            "1733/1733 [==============================] - 34s 20ms/step - loss: 0.7720 - root_mean_squared_error: 0.8573 - val_loss: 1.0041 - val_root_mean_squared_error: 0.9861\n",
            "Epoch 6/40\n",
            "1733/1733 [==============================] - 34s 20ms/step - loss: 0.7418 - root_mean_squared_error: 0.8402 - val_loss: 0.9861 - val_root_mean_squared_error: 0.9760\n",
            "Epoch 7/40\n",
            "1733/1733 [==============================] - 35s 20ms/step - loss: 0.7143 - root_mean_squared_error: 0.8252 - val_loss: 0.9664 - val_root_mean_squared_error: 0.9672\n",
            "Epoch 8/40\n",
            "1733/1733 [==============================] - 34s 19ms/step - loss: 0.6933 - root_mean_squared_error: 0.8133 - val_loss: 0.9862 - val_root_mean_squared_error: 0.9770\n",
            "Epoch 9/40\n",
            "1733/1733 [==============================] - 34s 20ms/step - loss: 0.6739 - root_mean_squared_error: 0.8014 - val_loss: 0.9978 - val_root_mean_squared_error: 0.9846\n",
            "Epoch 10/40\n",
            "1733/1733 [==============================] - 35s 20ms/step - loss: 0.6558 - root_mean_squared_error: 0.7895 - val_loss: 1.0184 - val_root_mean_squared_error: 0.9942\n",
            "Epoch 11/40\n",
            "1733/1733 [==============================] - 34s 20ms/step - loss: 0.6369 - root_mean_squared_error: 0.7790 - val_loss: 1.0383 - val_root_mean_squared_error: 1.0036\n"
          ]
        }
      ],
      "source": [
        "cb_earlystop = keras.callbacks.EarlyStopping(patience=7)\n",
        "optimizer = tf.keras.optimizers.Adam(learning_rate=0.001)\n",
        "model.compile(loss='mean_squared_error', metrics=tf.keras.metrics.RootMeanSquaredError(), optimizer=optimizer)\n",
        "history = model.fit(X_train, y_train, epochs=40, validation_data=[X_valid, y_valid], callbacks=[cb_earlystop])"
      ]
    },
    {
      "cell_type": "code",
      "execution_count": 101,
      "metadata": {
        "id": "3yqvL3FIYDcR"
      },
      "outputs": [],
      "source": [
        "df_fit = pd.DataFrame(history.history)"
      ]
    },
    {
      "cell_type": "code",
      "execution_count": 102,
      "metadata": {
        "colab": {
          "base_uri": "https://localhost:8080/",
          "height": 282
        },
        "id": "CG3KP594YIqG",
        "outputId": "e4cb071f-646a-4300-e556-4fe20fcd7b2a"
      },
      "outputs": [
        {
          "data": {
            "text/plain": [
              "<matplotlib.axes._subplots.AxesSubplot at 0x7fad41919fd0>"
            ]
          },
          "execution_count": 102,
          "metadata": {},
          "output_type": "execute_result"
        },
        {
          "data": {
            "image/png": "[encoded data removed]",
            "text/plain": [
              "<Figure size 432x288 with 1 Axes>"
            ]
          },
          "metadata": {
            "needs_background": "light"
          },
          "output_type": "display_data"
        }
      ],
      "source": [
        "df_fit.plot()"
      ]
    },
    {
      "cell_type": "code",
      "execution_count": 103,
      "metadata": {
        "colab": {
          "base_uri": "https://localhost:8080/"
        },
        "id": "6PuRVxC4YROB",
        "outputId": "ee8db606-477b-4493-b5d1-3ac22f132aa9"
      },
      "outputs": [
        {
          "data": {
            "text/plain": [
              "array([[4.9268956]], dtype=float32)"
            ]
          },
          "execution_count": 103,
          "metadata": {},
          "output_type": "execute_result"
        }
      ],
      "source": [
        "model.predict(['This app is so good'])"
      ]
    },
    {
      "cell_type": "code",
      "execution_count": 104,
      "metadata": {
        "colab": {
          "base_uri": "https://localhost:8080/"
        },
        "id": "LWb7seiwY4k8",
        "outputId": "86daad41-fca7-4b92-8c10-c1a48825dfab"
      },
      "outputs": [
        {
          "data": {
            "text/plain": [
              "array([[1.6854765]], dtype=float32)"
            ]
          },
          "execution_count": 104,
          "metadata": {},
          "output_type": "execute_result"
        }
      ],
      "source": [
        "model.predict(['This app is not bad'])"
      ]
    },
    {
      "cell_type": "code",
      "execution_count": 105,
      "metadata": {
        "colab": {
          "base_uri": "https://localhost:8080/"
        },
        "id": "hbroEwewZGyW",
        "outputId": "4862106e-9428-4d8a-c75c-c382ef8ffdfd"
      },
      "outputs": [
        {
          "data": {
            "text/plain": [
              "array([[0.44108278]], dtype=float32)"
            ]
          },
          "execution_count": 105,
          "metadata": {},
          "output_type": "execute_result"
        }
      ],
      "source": [
        "model.predict(['terrible app'])"
      ]
    }
  ],
  "metadata": {
    "accelerator": "GPU",
    "colab": {
      "name": "spotify_review_simple.ipynb",
      "provenance": []
    },
    "gpuClass": "standard",
    "kernelspec": {
      "display_name": "Python 3.9.7 64-bit",
      "language": "python",
      "name": "python3"
    },
    "language_info": {
      "codemirror_mode": {
        "name": "ipython",
        "version": 3
      },
      "file_extension": ".py",
      "mimetype": "text/x-python",
      "name": "python",
      "nbconvert_exporter": "python",
      "pygments_lexer": "ipython3",
      "version": "3.9.7"
    },
    "orig_nbformat": 4,
    "vscode": {
      "interpreter": {
        "hash": "b1ffc42b7688ee54d4509547a2cb46af3c49bac4d5c1def4786231871a29c157"
      }
    }
  },
  "nbformat": 4,
  "nbformat_minor": 0
}
