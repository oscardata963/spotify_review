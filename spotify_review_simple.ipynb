{
  "cells": [
    {
      "cell_type": "markdown",
      "metadata": {
        "id": "QUCa0H1qp7eI"
      },
      "source": [
        "# Spotify Review NLP - Rating Prediction from Reviews on Google Play\n",
        "\n",
        "The data was retrieved from https://www.kaggle.com/datasets/mfaaris/spotify-app-reviews-2022\n",
        "\n",
        "This project aims at building an NLP machine that predicts the rating of the Spotify app based on the user reviews. A recurrent neural network will be used. Side information such as the number of upvotes and the time of publication will also be used as features.\n",
        "\n",
        "The recently included TextVectorization layer has been used to build the model, incorporating data preprocessing steps during training time."
      ]
    },
    {
      "cell_type": "markdown",
      "metadata": {
        "id": "0EP6uKeDp7eM"
      },
      "source": [
        "### EDA"
      ]
    },
    {
      "cell_type": "code",
      "execution_count": 29,
      "metadata": {
        "id": "LiuJB0nSp7eO"
      },
      "outputs": [],
      "source": [
        "import pandas as pd\n",
        "import numpy as np\n",
        "import matplotlib.pyplot as plt\n",
        "import datetime"
      ]
    },
    {
      "cell_type": "code",
      "execution_count": 30,
      "metadata": {
        "id": "uPndkcE6p7eQ"
      },
      "outputs": [],
      "source": [
        "df = pd.read_csv('reviews.csv')"
      ]
    },
    {
      "cell_type": "code",
      "execution_count": 31,
      "metadata": {
        "colab": {
          "base_uri": "https://localhost:8080/",
          "height": 206
        },
        "id": "Jdb4UAazp7eR",
        "outputId": "10344359-1e09-4a29-8803-67d97c0b7974"
      },
      "outputs": [
        {
          "output_type": "execute_result",
          "data": {
            "text/plain": [
              "        Time_submitted                                             Review  \\\n",
              "0  2022-07-09 15:00:00  Great music service, the audio is high quality...   \n",
              "1  2022-07-09 14:21:22  Please ignore previous negative rating. This a...   \n",
              "2  2022-07-09 13:27:32  This pop-up \"Get the best Spotify experience o...   \n",
              "3  2022-07-09 13:26:45    Really buggy and terrible to use as of recently   \n",
              "4  2022-07-09 13:20:49  Dear Spotify why do I get songs that I didn't ...   \n",
              "\n",
              "   Rating  Total_thumbsup Reply  \n",
              "0       5               2   NaN  \n",
              "1       5               1   NaN  \n",
              "2       4               0   NaN  \n",
              "3       1               1   NaN  \n",
              "4       1               1   NaN  "
            ],
            "text/html": [
              "\n",
              "  <div id=\"df-60420776-0b27-466d-98cf-a6787593e120\">\n",
              "    <div class=\"colab-df-container\">\n",
              "      <div>\n",
              "<style scoped>\n",
              "    .dataframe tbody tr th:only-of-type {\n",
              "        vertical-align: middle;\n",
              "    }\n",
              "\n",
              "    .dataframe tbody tr th {\n",
              "        vertical-align: top;\n",
              "    }\n",
              "\n",
              "    .dataframe thead th {\n",
              "        text-align: right;\n",
              "    }\n",
              "</style>\n",
              "<table border=\"1\" class=\"dataframe\">\n",
              "  <thead>\n",
              "    <tr style=\"text-align: right;\">\n",
              "      <th></th>\n",
              "      <th>Time_submitted</th>\n",
              "      <th>Review</th>\n",
              "      <th>Rating</th>\n",
              "      <th>Total_thumbsup</th>\n",
              "      <th>Reply</th>\n",
              "    </tr>\n",
              "  </thead>\n",
              "  <tbody>\n",
              "    <tr>\n",
              "      <th>0</th>\n",
              "      <td>2022-07-09 15:00:00</td>\n",
              "      <td>Great music service, the audio is high quality...</td>\n",
              "      <td>5</td>\n",
              "      <td>2</td>\n",
              "      <td>NaN</td>\n",
              "    </tr>\n",
              "    <tr>\n",
              "      <th>1</th>\n",
              "      <td>2022-07-09 14:21:22</td>\n",
              "      <td>Please ignore previous negative rating. This a...</td>\n",
              "      <td>5</td>\n",
              "      <td>1</td>\n",
              "      <td>NaN</td>\n",
              "    </tr>\n",
              "    <tr>\n",
              "      <th>2</th>\n",
              "      <td>2022-07-09 13:27:32</td>\n",
              "      <td>This pop-up \"Get the best Spotify experience o...</td>\n",
              "      <td>4</td>\n",
              "      <td>0</td>\n",
              "      <td>NaN</td>\n",
              "    </tr>\n",
              "    <tr>\n",
              "      <th>3</th>\n",
              "      <td>2022-07-09 13:26:45</td>\n",
              "      <td>Really buggy and terrible to use as of recently</td>\n",
              "      <td>1</td>\n",
              "      <td>1</td>\n",
              "      <td>NaN</td>\n",
              "    </tr>\n",
              "    <tr>\n",
              "      <th>4</th>\n",
              "      <td>2022-07-09 13:20:49</td>\n",
              "      <td>Dear Spotify why do I get songs that I didn't ...</td>\n",
              "      <td>1</td>\n",
              "      <td>1</td>\n",
              "      <td>NaN</td>\n",
              "    </tr>\n",
              "  </tbody>\n",
              "</table>\n",
              "</div>\n",
              "      <button class=\"colab-df-convert\" onclick=\"convertToInteractive('df-60420776-0b27-466d-98cf-a6787593e120')\"\n",
              "              title=\"Convert this dataframe to an interactive table.\"\n",
              "              style=\"display:none;\">\n",
              "        \n",
              "  <svg xmlns=\"http://www.w3.org/2000/svg\" height=\"24px\"viewBox=\"0 0 24 24\"\n",
              "       width=\"24px\">\n",
              "    <path d=\"M0 0h24v24H0V0z\" fill=\"none\"/>\n",
              "    <path d=\"M18.56 5.44l.94 2.06.94-2.06 2.06-.94-2.06-.94-.94-2.06-.94 2.06-2.06.94zm-11 1L8.5 8.5l.94-2.06 2.06-.94-2.06-.94L8.5 2.5l-.94 2.06-2.06.94zm10 10l.94 2.06.94-2.06 2.06-.94-2.06-.94-.94-2.06-.94 2.06-2.06.94z\"/><path d=\"M17.41 7.96l-1.37-1.37c-.4-.4-.92-.59-1.43-.59-.52 0-1.04.2-1.43.59L10.3 9.45l-7.72 7.72c-.78.78-.78 2.05 0 2.83L4 21.41c.39.39.9.59 1.41.59.51 0 1.02-.2 1.41-.59l7.78-7.78 2.81-2.81c.8-.78.8-2.07 0-2.86zM5.41 20L4 18.59l7.72-7.72 1.47 1.35L5.41 20z\"/>\n",
              "  </svg>\n",
              "      </button>\n",
              "      \n",
              "  <style>\n",
              "    .colab-df-container {\n",
              "      display:flex;\n",
              "      flex-wrap:wrap;\n",
              "      gap: 12px;\n",
              "    }\n",
              "\n",
              "    .colab-df-convert {\n",
              "      background-color: #E8F0FE;\n",
              "      border: none;\n",
              "      border-radius: 50%;\n",
              "      cursor: pointer;\n",
              "      display: none;\n",
              "      fill: #1967D2;\n",
              "      height: 32px;\n",
              "      padding: 0 0 0 0;\n",
              "      width: 32px;\n",
              "    }\n",
              "\n",
              "    .colab-df-convert:hover {\n",
              "      background-color: #E2EBFA;\n",
              "      box-shadow: 0px 1px 2px rgba(60, 64, 67, 0.3), 0px 1px 3px 1px rgba(60, 64, 67, 0.15);\n",
              "      fill: #174EA6;\n",
              "    }\n",
              "\n",
              "    [theme=dark] .colab-df-convert {\n",
              "      background-color: #3B4455;\n",
              "      fill: #D2E3FC;\n",
              "    }\n",
              "\n",
              "    [theme=dark] .colab-df-convert:hover {\n",
              "      background-color: #434B5C;\n",
              "      box-shadow: 0px 1px 3px 1px rgba(0, 0, 0, 0.15);\n",
              "      filter: drop-shadow(0px 1px 2px rgba(0, 0, 0, 0.3));\n",
              "      fill: #FFFFFF;\n",
              "    }\n",
              "  </style>\n",
              "\n",
              "      <script>\n",
              "        const buttonEl =\n",
              "          document.querySelector('#df-60420776-0b27-466d-98cf-a6787593e120 button.colab-df-convert');\n",
              "        buttonEl.style.display =\n",
              "          google.colab.kernel.accessAllowed ? 'block' : 'none';\n",
              "\n",
              "        async function convertToInteractive(key) {\n",
              "          const element = document.querySelector('#df-60420776-0b27-466d-98cf-a6787593e120');\n",
              "          const dataTable =\n",
              "            await google.colab.kernel.invokeFunction('convertToInteractive',\n",
              "                                                     [key], {});\n",
              "          if (!dataTable) return;\n",
              "\n",
              "          const docLinkHtml = 'Like what you see? Visit the ' +\n",
              "            '<a target=\"_blank\" href=https://colab.research.google.com/notebooks/data_table.ipynb>data table notebook</a>'\n",
              "            + ' to learn more about interactive tables.';\n",
              "          element.innerHTML = '';\n",
              "          dataTable['output_type'] = 'display_data';\n",
              "          await google.colab.output.renderOutput(dataTable, element);\n",
              "          const docLink = document.createElement('div');\n",
              "          docLink.innerHTML = docLinkHtml;\n",
              "          element.appendChild(docLink);\n",
              "        }\n",
              "      </script>\n",
              "    </div>\n",
              "  </div>\n",
              "  "
            ]
          },
          "metadata": {},
          "execution_count": 31
        }
      ],
      "source": [
        "df.head()"
      ]
    },
    {
      "cell_type": "code",
      "execution_count": 32,
      "metadata": {
        "colab": {
          "base_uri": "https://localhost:8080/"
        },
        "id": "_oREq0n-p7eT",
        "outputId": "a6d07ff7-fb45-484e-f306-62efc78db5de"
      },
      "outputs": [
        {
          "output_type": "execute_result",
          "data": {
            "text/plain": [
              "(61594, 5)"
            ]
          },
          "metadata": {},
          "execution_count": 32
        }
      ],
      "source": [
        "df.shape"
      ]
    },
    {
      "cell_type": "code",
      "execution_count": 33,
      "metadata": {
        "colab": {
          "base_uri": "https://localhost:8080/"
        },
        "id": "VbWNVUlyp7eV",
        "outputId": "b0feca17-d1a7-4e1d-c8a7-854964d7d934"
      },
      "outputs": [
        {
          "output_type": "stream",
          "name": "stdout",
          "text": [
            "<class 'pandas.core.frame.DataFrame'>\n",
            "RangeIndex: 61594 entries, 0 to 61593\n",
            "Data columns (total 5 columns):\n",
            " #   Column          Non-Null Count  Dtype \n",
            "---  ------          --------------  ----- \n",
            " 0   Time_submitted  61594 non-null  object\n",
            " 1   Review          61594 non-null  object\n",
            " 2   Rating          61594 non-null  int64 \n",
            " 3   Total_thumbsup  61594 non-null  int64 \n",
            " 4   Reply           216 non-null    object\n",
            "dtypes: int64(2), object(3)\n",
            "memory usage: 2.3+ MB\n"
          ]
        }
      ],
      "source": [
        "df.info()"
      ]
    },
    {
      "cell_type": "code",
      "execution_count": 34,
      "metadata": {
        "colab": {
          "base_uri": "https://localhost:8080/",
          "height": 300
        },
        "id": "BfvowOwZp7eW",
        "outputId": "905ce8f1-c93a-4de7-bcad-41f64a34878c"
      },
      "outputs": [
        {
          "output_type": "execute_result",
          "data": {
            "text/plain": [
              "             Rating  Total_thumbsup\n",
              "count  61594.000000    61594.000000\n",
              "mean       3.155989        7.649381\n",
              "std        1.673285       89.323143\n",
              "min        1.000000        0.000000\n",
              "25%        1.000000        0.000000\n",
              "50%        3.000000        0.000000\n",
              "75%        5.000000        1.000000\n",
              "max        5.000000     8195.000000"
            ],
            "text/html": [
              "\n",
              "  <div id=\"df-68c8947c-0e70-4c2c-bc0f-47650bdd43cb\">\n",
              "    <div class=\"colab-df-container\">\n",
              "      <div>\n",
              "<style scoped>\n",
              "    .dataframe tbody tr th:only-of-type {\n",
              "        vertical-align: middle;\n",
              "    }\n",
              "\n",
              "    .dataframe tbody tr th {\n",
              "        vertical-align: top;\n",
              "    }\n",
              "\n",
              "    .dataframe thead th {\n",
              "        text-align: right;\n",
              "    }\n",
              "</style>\n",
              "<table border=\"1\" class=\"dataframe\">\n",
              "  <thead>\n",
              "    <tr style=\"text-align: right;\">\n",
              "      <th></th>\n",
              "      <th>Rating</th>\n",
              "      <th>Total_thumbsup</th>\n",
              "    </tr>\n",
              "  </thead>\n",
              "  <tbody>\n",
              "    <tr>\n",
              "      <th>count</th>\n",
              "      <td>61594.000000</td>\n",
              "      <td>61594.000000</td>\n",
              "    </tr>\n",
              "    <tr>\n",
              "      <th>mean</th>\n",
              "      <td>3.155989</td>\n",
              "      <td>7.649381</td>\n",
              "    </tr>\n",
              "    <tr>\n",
              "      <th>std</th>\n",
              "      <td>1.673285</td>\n",
              "      <td>89.323143</td>\n",
              "    </tr>\n",
              "    <tr>\n",
              "      <th>min</th>\n",
              "      <td>1.000000</td>\n",
              "      <td>0.000000</td>\n",
              "    </tr>\n",
              "    <tr>\n",
              "      <th>25%</th>\n",
              "      <td>1.000000</td>\n",
              "      <td>0.000000</td>\n",
              "    </tr>\n",
              "    <tr>\n",
              "      <th>50%</th>\n",
              "      <td>3.000000</td>\n",
              "      <td>0.000000</td>\n",
              "    </tr>\n",
              "    <tr>\n",
              "      <th>75%</th>\n",
              "      <td>5.000000</td>\n",
              "      <td>1.000000</td>\n",
              "    </tr>\n",
              "    <tr>\n",
              "      <th>max</th>\n",
              "      <td>5.000000</td>\n",
              "      <td>8195.000000</td>\n",
              "    </tr>\n",
              "  </tbody>\n",
              "</table>\n",
              "</div>\n",
              "      <button class=\"colab-df-convert\" onclick=\"convertToInteractive('df-68c8947c-0e70-4c2c-bc0f-47650bdd43cb')\"\n",
              "              title=\"Convert this dataframe to an interactive table.\"\n",
              "              style=\"display:none;\">\n",
              "        \n",
              "  <svg xmlns=\"http://www.w3.org/2000/svg\" height=\"24px\"viewBox=\"0 0 24 24\"\n",
              "       width=\"24px\">\n",
              "    <path d=\"M0 0h24v24H0V0z\" fill=\"none\"/>\n",
              "    <path d=\"M18.56 5.44l.94 2.06.94-2.06 2.06-.94-2.06-.94-.94-2.06-.94 2.06-2.06.94zm-11 1L8.5 8.5l.94-2.06 2.06-.94-2.06-.94L8.5 2.5l-.94 2.06-2.06.94zm10 10l.94 2.06.94-2.06 2.06-.94-2.06-.94-.94-2.06-.94 2.06-2.06.94z\"/><path d=\"M17.41 7.96l-1.37-1.37c-.4-.4-.92-.59-1.43-.59-.52 0-1.04.2-1.43.59L10.3 9.45l-7.72 7.72c-.78.78-.78 2.05 0 2.83L4 21.41c.39.39.9.59 1.41.59.51 0 1.02-.2 1.41-.59l7.78-7.78 2.81-2.81c.8-.78.8-2.07 0-2.86zM5.41 20L4 18.59l7.72-7.72 1.47 1.35L5.41 20z\"/>\n",
              "  </svg>\n",
              "      </button>\n",
              "      \n",
              "  <style>\n",
              "    .colab-df-container {\n",
              "      display:flex;\n",
              "      flex-wrap:wrap;\n",
              "      gap: 12px;\n",
              "    }\n",
              "\n",
              "    .colab-df-convert {\n",
              "      background-color: #E8F0FE;\n",
              "      border: none;\n",
              "      border-radius: 50%;\n",
              "      cursor: pointer;\n",
              "      display: none;\n",
              "      fill: #1967D2;\n",
              "      height: 32px;\n",
              "      padding: 0 0 0 0;\n",
              "      width: 32px;\n",
              "    }\n",
              "\n",
              "    .colab-df-convert:hover {\n",
              "      background-color: #E2EBFA;\n",
              "      box-shadow: 0px 1px 2px rgba(60, 64, 67, 0.3), 0px 1px 3px 1px rgba(60, 64, 67, 0.15);\n",
              "      fill: #174EA6;\n",
              "    }\n",
              "\n",
              "    [theme=dark] .colab-df-convert {\n",
              "      background-color: #3B4455;\n",
              "      fill: #D2E3FC;\n",
              "    }\n",
              "\n",
              "    [theme=dark] .colab-df-convert:hover {\n",
              "      background-color: #434B5C;\n",
              "      box-shadow: 0px 1px 3px 1px rgba(0, 0, 0, 0.15);\n",
              "      filter: drop-shadow(0px 1px 2px rgba(0, 0, 0, 0.3));\n",
              "      fill: #FFFFFF;\n",
              "    }\n",
              "  </style>\n",
              "\n",
              "      <script>\n",
              "        const buttonEl =\n",
              "          document.querySelector('#df-68c8947c-0e70-4c2c-bc0f-47650bdd43cb button.colab-df-convert');\n",
              "        buttonEl.style.display =\n",
              "          google.colab.kernel.accessAllowed ? 'block' : 'none';\n",
              "\n",
              "        async function convertToInteractive(key) {\n",
              "          const element = document.querySelector('#df-68c8947c-0e70-4c2c-bc0f-47650bdd43cb');\n",
              "          const dataTable =\n",
              "            await google.colab.kernel.invokeFunction('convertToInteractive',\n",
              "                                                     [key], {});\n",
              "          if (!dataTable) return;\n",
              "\n",
              "          const docLinkHtml = 'Like what you see? Visit the ' +\n",
              "            '<a target=\"_blank\" href=https://colab.research.google.com/notebooks/data_table.ipynb>data table notebook</a>'\n",
              "            + ' to learn more about interactive tables.';\n",
              "          element.innerHTML = '';\n",
              "          dataTable['output_type'] = 'display_data';\n",
              "          await google.colab.output.renderOutput(dataTable, element);\n",
              "          const docLink = document.createElement('div');\n",
              "          docLink.innerHTML = docLinkHtml;\n",
              "          element.appendChild(docLink);\n",
              "        }\n",
              "      </script>\n",
              "    </div>\n",
              "  </div>\n",
              "  "
            ]
          },
          "metadata": {},
          "execution_count": 34
        }
      ],
      "source": [
        "df.describe()"
      ]
    },
    {
      "cell_type": "markdown",
      "metadata": {
        "id": "jDv6dlvtClC0"
      },
      "source": [
        "The mean of total upvotes of reviews grouped by the presence of replies"
      ]
    },
    {
      "cell_type": "code",
      "execution_count": 35,
      "metadata": {
        "id": "IbEsU0b8ClC1"
      },
      "outputs": [],
      "source": [
        "x = pd.concat((df['Total_thumbsup'], (df['Reply'].isna() == False).astype('str')), axis=1)\n",
        "y = x.groupby('Reply')['Total_thumbsup'].mean()"
      ]
    },
    {
      "cell_type": "code",
      "execution_count": 36,
      "metadata": {
        "colab": {
          "base_uri": "https://localhost:8080/",
          "height": 312
        },
        "id": "_1ai7NC4ClC2",
        "outputId": "80ada95a-702f-4861-a883-871d56cd0f6a"
      },
      "outputs": [
        {
          "output_type": "execute_result",
          "data": {
            "text/plain": [
              "Text(0, 0.5, 'Mean number of Upvotes')"
            ]
          },
          "metadata": {},
          "execution_count": 36
        },
        {
          "output_type": "display_data",
          "data": {
            "text/plain": [
              "<Figure size 432x288 with 1 Axes>"
            ],
            "image/png": "[encoded data removed]"
          },
          "metadata": {
            "needs_background": "light"
          }
        }
      ],
      "source": [
        "plt.bar(['Without reply', 'With reply'], y.values)\n",
        "plt.title('Mean Number of Upvotes Grouped by the Presence of Replies')\n",
        "plt.xlabel('Reply')\n",
        "plt.ylabel('Mean number of Upvotes')"
      ]
    },
    {
      "cell_type": "markdown",
      "metadata": {
        "id": "bjOnpMGqClC3"
      },
      "source": [
        "Distribution of ratings and the distribution of the number of upvotes"
      ]
    },
    {
      "cell_type": "code",
      "execution_count": 37,
      "metadata": {
        "colab": {
          "base_uri": "https://localhost:8080/",
          "height": 297
        },
        "id": "nxpzNkp-p7eY",
        "outputId": "467ce3c7-4ead-4570-9943-935871288c77"
      },
      "outputs": [
        {
          "output_type": "display_data",
          "data": {
            "text/plain": [
              "<Figure size 432x288 with 2 Axes>"
            ],
            "image/png": "[encoded data removed]"
          },
          "metadata": {
            "needs_background": "light"
          }
        }
      ],
      "source": [
        "fig = plt.figure()\n",
        "ax1 = fig.add_subplot(211)\n",
        "ax1.hist(df['Rating'].values, bins=100)\n",
        "ax1.set_title('Distribution of Ratings')\n",
        "ax1.set_xlabel('Rating')\n",
        "ax1.set_ylabel('Counts')\n",
        "ax2 = fig.add_subplot(212)\n",
        "ax2.hist(df['Total_thumbsup'][df['Total_thumbsup'] < 100].values, bins=100)\n",
        "ax2.set_title('Distribution of Upvotes')\n",
        "ax2.set_xlabel('Number of Upvotes')\n",
        "ax2.set_ylabel('Counts')\n",
        "ax2.set_xlim(0,20)\n",
        "plt.tight_layout()\n",
        "plt.show()"
      ]
    },
    {
      "cell_type": "code",
      "execution_count": 38,
      "metadata": {
        "colab": {
          "base_uri": "https://localhost:8080/"
        },
        "id": "MrtT4BBHp7ea",
        "outputId": "420a574f-eb31-4fa8-bdec-39a3f34a0afc"
      },
      "outputs": [
        {
          "output_type": "execute_result",
          "data": {
            "text/plain": [
              "8195"
            ]
          },
          "metadata": {},
          "execution_count": 38
        }
      ],
      "source": [
        "df['Total_thumbsup'].max()"
      ]
    },
    {
      "cell_type": "code",
      "execution_count": 39,
      "metadata": {
        "id": "XYfAdmZAp7eb"
      },
      "outputs": [],
      "source": [
        "df['Time_submitted'] = pd.to_datetime(df['Time_submitted'], format='%Y-%m-%d %H:%M:%S')"
      ]
    },
    {
      "cell_type": "code",
      "execution_count": 40,
      "metadata": {
        "id": "dqvkWWUZp7ec"
      },
      "outputs": [],
      "source": [
        "group_month = df.groupby(df['Time_submitted'].dt.month)"
      ]
    },
    {
      "cell_type": "code",
      "execution_count": 41,
      "metadata": {
        "id": "vECLZM-Ep7ed"
      },
      "outputs": [],
      "source": [
        "review_count_by_month = group_month['Rating'].count()"
      ]
    },
    {
      "cell_type": "code",
      "execution_count": 42,
      "metadata": {
        "colab": {
          "base_uri": "https://localhost:8080/",
          "height": 350
        },
        "id": "asg7MFcVp7ed",
        "outputId": "6b375d3d-a851-4820-8786-c31902d0b124"
      },
      "outputs": [
        {
          "output_type": "stream",
          "name": "stderr",
          "text": [
            "/usr/local/lib/python3.7/dist-packages/ipykernel_launcher.py:2: MatplotlibDeprecationWarning: Passing the minor parameter of set_xticks() positionally is deprecated since Matplotlib 3.2; the parameter will become keyword-only two minor releases later.\n",
            "  \n"
          ]
        },
        {
          "output_type": "display_data",
          "data": {
            "text/plain": [
              "<Figure size 432x288 with 1 Axes>"
            ],
            "image/png": "[encoded data removed]"
          },
          "metadata": {
            "needs_background": "light"
          }
        }
      ],
      "source": [
        "plt.bar(review_count_by_month.index, review_count_by_month.values)\n",
        "plt.gca().set_xticks([1,2,3,4,5,6,7], ['January', 'February', 'March', 'April', 'May', 'June', 'July'])\n",
        "plt.title('Number of Reviews by month in 2022')\n",
        "plt.xlabel('Month')\n",
        "plt.ylabel('Count')\n",
        "plt.show()"
      ]
    },
    {
      "cell_type": "markdown",
      "metadata": {
        "id": "SuV8hSOqp7ee"
      },
      "source": [
        "### Preprocessing"
      ]
    },
    {
      "cell_type": "markdown",
      "metadata": {
        "id": "iWopn5Asp7ef"
      },
      "source": [
        "Lower Case"
      ]
    },
    {
      "cell_type": "code",
      "execution_count": 43,
      "metadata": {
        "id": "a-vsN7k1p7ef"
      },
      "outputs": [],
      "source": [
        "df['Review'] = df['Review'].str.lower()"
      ]
    },
    {
      "cell_type": "markdown",
      "metadata": {
        "id": "Zh1VZEKSp7eg"
      },
      "source": [
        "Remove Punctuations"
      ]
    },
    {
      "cell_type": "code",
      "execution_count": 44,
      "metadata": {
        "id": "H0oqnzbsp7eg"
      },
      "outputs": [],
      "source": [
        "df['Review'] = df['Review'].str.replace('[^\\w ]+', '', regex=True)"
      ]
    },
    {
      "cell_type": "markdown",
      "metadata": {
        "id": "0cnOgf9MDNay"
      },
      "source": [
        "Lemmatization"
      ]
    },
    {
      "cell_type": "code",
      "execution_count": 45,
      "metadata": {
        "colab": {
          "base_uri": "https://localhost:8080/"
        },
        "id": "gD8pqo7MDLn1",
        "outputId": "0dd2a66b-53cf-45a8-d9a2-5fcb926549dc"
      },
      "outputs": [
        {
          "output_type": "stream",
          "name": "stderr",
          "text": [
            "[nltk_data] Downloading package wordnet to /root/nltk_data...\n",
            "[nltk_data]   Package wordnet is already up-to-date!\n",
            "[nltk_data] Downloading package omw-1.4 to /root/nltk_data...\n",
            "[nltk_data]   Package omw-1.4 is already up-to-date!\n"
          ]
        }
      ],
      "source": [
        "from nltk.stem import WordNetLemmatizer\n",
        "import nltk\n",
        "\n",
        "nltk.download('wordnet')\n",
        "nltk.download('omw-1.4')\n",
        "\n",
        "lm = WordNetLemmatizer()\n",
        "\n",
        "def lemmatize(sentence):\n",
        "    new_words = []\n",
        "    words = sentence.split(' ')\n",
        "    for word in words:\n",
        "        new_words.append(lm.lemmatize(word))\n",
        "    return ' '.join(new_words)\n",
        "\n",
        "df['Review'] = df['Review'].apply(lemmatize)"
      ]
    },
    {
      "cell_type": "code",
      "execution_count": 46,
      "metadata": {
        "id": "9_MM9pw7p7ei"
      },
      "outputs": [],
      "source": [
        "X_full = df['Review'].values\n",
        "y_full = df['Rating'].values"
      ]
    },
    {
      "cell_type": "code",
      "execution_count": 47,
      "metadata": {
        "id": "V6SSaz7aClDB"
      },
      "outputs": [],
      "source": [
        "from sklearn.model_selection import train_test_split\n",
        "X_train, X_valid, y_train, y_valid = train_test_split(X_full, y_full, test_size=0.1)"
      ]
    },
    {
      "cell_type": "code",
      "execution_count": 48,
      "metadata": {
        "id": "_zQGiwUlp7eh"
      },
      "outputs": [],
      "source": [
        "import tensorflow as tf\n",
        "from tensorflow import keras"
      ]
    },
    {
      "cell_type": "code",
      "execution_count": 49,
      "metadata": {
        "colab": {
          "base_uri": "https://localhost:8080/"
        },
        "id": "nFetg87lClDC",
        "outputId": "a407868d-8fe5-4160-c7bb-001a8d628263"
      },
      "outputs": [
        {
          "output_type": "stream",
          "name": "stdout",
          "text": [
            "5000\n"
          ]
        }
      ],
      "source": [
        "vector_layer = keras.layers.TextVectorization(5000)\n",
        "vector_layer.adapt(X_train)\n",
        "vocab_size = len(vector_layer.get_vocabulary())\n",
        "print(vocab_size)"
      ]
    },
    {
      "cell_type": "code",
      "execution_count": 50,
      "metadata": {
        "id": "ZahW27Agp7es"
      },
      "outputs": [],
      "source": [
        "embed_size = 128\n",
        "model = keras.models.Sequential([\n",
        "    vector_layer,\n",
        "    keras.layers.Embedding(5000, embed_size,\n",
        "                           mask_zero = True,\n",
        "                           input_shape=[None]),\n",
        "    keras.layers.GRU(128, return_sequences=True, kernel_regularizer='l2'),\n",
        "    keras.layers.LayerNormalization(),\n",
        "    keras.layers.GRU(128, kernel_regularizer='l2'),\n",
        "    keras.layers.Dense(1)\n",
        "])"
      ]
    },
    {
      "cell_type": "code",
      "execution_count": 51,
      "metadata": {
        "colab": {
          "base_uri": "https://localhost:8080/"
        },
        "id": "fpWmbg7up7et",
        "outputId": "3e266741-f5f3-42e0-fa33-4821cb05fb4b"
      },
      "outputs": [
        {
          "output_type": "stream",
          "name": "stdout",
          "text": [
            "Epoch 1/20\n",
            "1925/1925 [==============================] - 48s 21ms/step - loss: 1.4916 - root_mean_squared_error: 1.0629 - val_loss: 0.9053 - val_root_mean_squared_error: 0.9206\n",
            "Epoch 2/20\n",
            "1925/1925 [==============================] - 42s 22ms/step - loss: 0.9420 - root_mean_squared_error: 0.9476 - val_loss: 0.8499 - val_root_mean_squared_error: 0.9000\n",
            "Epoch 3/20\n",
            "1925/1925 [==============================] - 40s 21ms/step - loss: 0.8724 - root_mean_squared_error: 0.9141 - val_loss: 0.7840 - val_root_mean_squared_error: 0.8672\n",
            "Epoch 4/20\n",
            "1925/1925 [==============================] - 39s 20ms/step - loss: 0.8333 - root_mean_squared_error: 0.8936 - val_loss: 0.7264 - val_root_mean_squared_error: 0.8329\n",
            "Epoch 5/20\n",
            "1925/1925 [==============================] - 40s 21ms/step - loss: 0.7976 - root_mean_squared_error: 0.8733 - val_loss: 0.7245 - val_root_mean_squared_error: 0.8299\n",
            "Epoch 6/20\n",
            "1925/1925 [==============================] - 39s 20ms/step - loss: 0.7687 - root_mean_squared_error: 0.8568 - val_loss: 0.6665 - val_root_mean_squared_error: 0.7980\n",
            "Epoch 7/20\n",
            "1925/1925 [==============================] - 39s 20ms/step - loss: 0.7480 - root_mean_squared_error: 0.8451 - val_loss: 0.6707 - val_root_mean_squared_error: 0.7997\n",
            "Epoch 8/20\n",
            "1925/1925 [==============================] - 40s 21ms/step - loss: 0.7184 - root_mean_squared_error: 0.8289 - val_loss: 0.6243 - val_root_mean_squared_error: 0.7702\n",
            "Epoch 9/20\n",
            "1925/1925 [==============================] - 39s 20ms/step - loss: 0.6989 - root_mean_squared_error: 0.8178 - val_loss: 0.6374 - val_root_mean_squared_error: 0.7805\n",
            "Epoch 10/20\n",
            "1925/1925 [==============================] - 39s 20ms/step - loss: 0.6884 - root_mean_squared_error: 0.8114 - val_loss: 0.6326 - val_root_mean_squared_error: 0.7782\n",
            "Epoch 11/20\n",
            "1925/1925 [==============================] - 41s 21ms/step - loss: 0.6694 - root_mean_squared_error: 0.8001 - val_loss: 0.6161 - val_root_mean_squared_error: 0.7655\n",
            "Epoch 12/20\n",
            "1925/1925 [==============================] - 39s 20ms/step - loss: 0.6602 - root_mean_squared_error: 0.7945 - val_loss: 0.5928 - val_root_mean_squared_error: 0.7514\n",
            "Epoch 13/20\n",
            "1925/1925 [==============================] - 39s 20ms/step - loss: 0.6459 - root_mean_squared_error: 0.7858 - val_loss: 0.5913 - val_root_mean_squared_error: 0.7500\n",
            "Epoch 14/20\n",
            "1925/1925 [==============================] - 40s 21ms/step - loss: 0.6351 - root_mean_squared_error: 0.7786 - val_loss: 0.5782 - val_root_mean_squared_error: 0.7411\n",
            "Epoch 15/20\n",
            "1925/1925 [==============================] - 38s 20ms/step - loss: 0.6236 - root_mean_squared_error: 0.7705 - val_loss: 0.5576 - val_root_mean_squared_error: 0.7272\n",
            "Epoch 16/20\n",
            "1925/1925 [==============================] - 38s 20ms/step - loss: 0.6134 - root_mean_squared_error: 0.7640 - val_loss: 0.5569 - val_root_mean_squared_error: 0.7245\n",
            "Epoch 17/20\n",
            "1925/1925 [==============================] - 40s 21ms/step - loss: 0.5998 - root_mean_squared_error: 0.7554 - val_loss: 0.5479 - val_root_mean_squared_error: 0.7193\n",
            "Epoch 18/20\n",
            "1925/1925 [==============================] - 39s 20ms/step - loss: 0.6047 - root_mean_squared_error: 0.7562 - val_loss: 0.5433 - val_root_mean_squared_error: 0.7156\n",
            "Epoch 19/20\n",
            "1925/1925 [==============================] - 39s 20ms/step - loss: 0.5782 - root_mean_squared_error: 0.7406 - val_loss: 0.5254 - val_root_mean_squared_error: 0.7032\n",
            "Epoch 20/20\n",
            "1925/1925 [==============================] - 40s 21ms/step - loss: 0.5741 - root_mean_squared_error: 0.7373 - val_loss: 0.5163 - val_root_mean_squared_error: 0.6968\n"
          ]
        }
      ],
      "source": [
        "cb_earlystop = keras.callbacks.EarlyStopping(patience=7)\n",
        "model.compile(loss='mean_squared_error', metrics=tf.keras.metrics.RootMeanSquaredError(), optimizer='adam')\n",
        "history = model.fit(X_full, y_full, epochs=20, validation_data=[X_valid, y_valid], callbacks=[cb_earlystop])"
      ]
    },
    {
      "cell_type": "code",
      "source": [
        "df_fit = pd.DataFrame(history.history)"
      ],
      "metadata": {
        "id": "3yqvL3FIYDcR"
      },
      "execution_count": 54,
      "outputs": []
    },
    {
      "cell_type": "code",
      "source": [
        "df_fit.plot()"
      ],
      "metadata": {
        "colab": {
          "base_uri": "https://localhost:8080/",
          "height": 282
        },
        "id": "CG3KP594YIqG",
        "outputId": "b36d1df8-8e15-4b07-8725-0db9d3678011"
      },
      "execution_count": 55,
      "outputs": [
        {
          "output_type": "execute_result",
          "data": {
            "text/plain": [
              "<matplotlib.axes._subplots.AxesSubplot at 0x7fad82f16210>"
            ]
          },
          "metadata": {},
          "execution_count": 55
        },
        {
          "output_type": "display_data",
          "data": {
            "text/plain": [
              "<Figure size 432x288 with 1 Axes>"
            ],
            "image/png": "[encoded data removed]"
          },
          "metadata": {
            "needs_background": "light"
          }
        }
      ]
    },
    {
      "cell_type": "code",
      "source": [
        "model.predict(['This app is so good'])"
      ],
      "metadata": {
        "colab": {
          "base_uri": "https://localhost:8080/"
        },
        "id": "6PuRVxC4YROB",
        "outputId": "e1b3b3a9-f079-4aa7-eb0b-9ea3fdf55bf4"
      },
      "execution_count": 57,
      "outputs": [
        {
          "output_type": "execute_result",
          "data": {
            "text/plain": [
              "array([[5.011237]], dtype=float32)"
            ]
          },
          "metadata": {},
          "execution_count": 57
        }
      ]
    },
    {
      "cell_type": "code",
      "source": [
        "model.predict(['This app is not bad']) # failed to capture semantics"
      ],
      "metadata": {
        "colab": {
          "base_uri": "https://localhost:8080/"
        },
        "id": "LWb7seiwY4k8",
        "outputId": "b1071c3c-0344-4f6e-a503-4959d4d1d38b"
      },
      "execution_count": 58,
      "outputs": [
        {
          "output_type": "execute_result",
          "data": {
            "text/plain": [
              "array([[1.6118585]], dtype=float32)"
            ]
          },
          "metadata": {},
          "execution_count": 58
        }
      ]
    },
    {
      "cell_type": "code",
      "source": [
        "model.predict(['terrible app']) # failed to capture semantics"
      ],
      "metadata": {
        "colab": {
          "base_uri": "https://localhost:8080/"
        },
        "id": "hbroEwewZGyW",
        "outputId": "6cc3b994-cd1a-4440-9307-c4493965f603"
      },
      "execution_count": 59,
      "outputs": [
        {
          "output_type": "execute_result",
          "data": {
            "text/plain": [
              "array([[1.0004785]], dtype=float32)"
            ]
          },
          "metadata": {},
          "execution_count": 59
        }
      ]
    }
  ],
  "metadata": {
    "accelerator": "GPU",
    "colab": {
      "name": "spotify_review_simple.ipynb",
      "provenance": []
    },
    "gpuClass": "standard",
    "kernelspec": {
      "display_name": "Python 3.9.7 64-bit",
      "language": "python",
      "name": "python3"
    },
    "language_info": {
      "codemirror_mode": {
        "name": "ipython",
        "version": 3
      },
      "file_extension": ".py",
      "mimetype": "text/x-python",
      "name": "python",
      "nbconvert_exporter": "python",
      "pygments_lexer": "ipython3",
      "version": "3.9.7"
    },
    "orig_nbformat": 4,
    "vscode": {
      "interpreter": {
        "hash": "b1ffc42b7688ee54d4509547a2cb46af3c49bac4d5c1def4786231871a29c157"
      }
    }
  },
  "nbformat": 4,
  "nbformat_minor": 0
}